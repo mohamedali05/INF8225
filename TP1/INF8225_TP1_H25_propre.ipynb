{
 "cells": [
  {
   "cell_type": "markdown",
   "metadata": {
    "id": "OAHWMYJv4xuc"
   },
   "source": [
    "# INF8225 TP1 H25 (v2.0)"
   ]
  },
  {
   "cell_type": "markdown",
   "metadata": {
    "id": "qV-6EDgXO-S9"
   },
   "source": [
    "Prénom - NOM / Matricule ########\n",
    "\n",
    "Partie 3 réalisée: [seul(e)]\n",
    "ou avec\n",
    "[Prénom - NOM -\n",
    "Matricule ########]\n",
    "\n",
    "Date limite :\n",
    "\n",
    "20h30 le 6 février 2025 (Partie 1 et 2)\n",
    "\n",
    "20h30 le 20 février 2025 (Partie 3)\n",
    "\n",
    "Remettez votre fichier Colab sur Moodle en 2 formats: **.pdf** ET **.ipynb**"
   ]
  },
  {
   "cell_type": "markdown",
   "metadata": {
    "id": "Jo2CPniBeytl"
   },
   "source": [
    "**Comment utiliser**:\n",
    "\n",
    "Il faut copier ce notebook dans vos dossiers pour avoir une version que vous pouvez modifier, voici deux façons de le faire:\n",
    "* File / Save a copy in Drive ...\n",
    "* File / Download .ipynb\n",
    "\n",
    "**Pour utiliser un GPU**\n",
    "\n",
    "Runtime / Change Runtime Type / Hardware Accelerator / GPU"
   ]
  },
  {
   "cell_type": "markdown",
   "metadata": {
    "id": "pCGh-NNm47Tk"
   },
   "source": [
    "# Partie 1 (16 points)\n",
    "\n"
   ]
  },
  {
   "cell_type": "markdown",
   "metadata": {
    "id": "r7tkIgu75Ccd"
   },
   "source": [
    "## Objectif\n",
    "L’objectif de la Partie 1 du travail pratique est de permettre à l’étudiant de se familiariser avec les réseaux Bayésiens et la librairie Numpy."
   ]
  },
  {
   "cell_type": "markdown",
   "metadata": {
    "id": "iongVT7XRegv"
   },
   "source": [
    "## Problème\n"
   ]
  },
  {
   "cell_type": "markdown",
   "metadata": {
    "id": "tdKetLE0hVev"
   },
   "source": [
    "Considérons le réseau Bayésien ci-dessous.\n",
    "\n",
    "<img src=\"https://drive.google.com/uc?id=1QCJSfYGLJVg2-0_BO8BEHCnMEDsHSR6k\" alt=\"bayes_net\" width=\"600\"/>\n",
    "\n",
    "Ceci représente un modèle simple pour les notes à un examen (G) et sa relation avec les étudiants qui se préparent aux examens et font correctement le travail pour les devoirs (S), les étudiants qui ont des difficultés dans la vie juste avant l'examen final (D), les étudiants qui réussissent bien à un entretien technique pour un emploi axé sur le sujet du cours (R), et des étudiants qui se retrouvent sur une sorte de palmarès de leur programme (L)."
   ]
  },
  {
   "cell_type": "markdown",
   "metadata": {
    "id": "Twz4slZ9DY6n"
   },
   "source": [
    "## Trucs et astuces\n",
    "Nous utiliserons des vecteurs multidimensionnels `5d-arrays` dont les `axes` représentent:\n",
    "```\n",
    "axe 0 : Se préparer (S)\n",
    "axe 1 : Difficultés avant l'exam (D)\n",
    "axe 2 : Réussir l'entretien technique (R)\n",
    "axe 3 : Note dans le cours (Grade) (G)\n",
    "axe 4 : Liste d'honneur (L)\n",
    "```\n",
    "\n",
    "Chaque `axe` serait de dimension `2` ou `3`:\n",
    "```\n",
    "Exemple pour S:\n",
    "0 : s0\n",
    "1 : s1\n",
    "\n",
    "Exemple pour G:\n",
    "0 : g0\n",
    "1 : g1\n",
    "2 : g2\n",
    "```\n",
    "Quelques point à garder en tête:\n",
    "- Utiliser la jointe comme point de départ pour vos calculs (ne pas développer tous les termes à la main).\n",
    "- Attention à l'effet du do-operator sur le graphe.\n",
    "- L'argument \"keepdims=True\" de \"np.sum()\" vous permet conserver les mêmes indices.\n",
    "- Pour un rappel sur les probabilités conditionelles, voir: https://www.probabilitycourse.com/chapter1/1_4_0_conditional_probability.php"
   ]
  },
  {
   "cell_type": "markdown",
   "metadata": {
    "id": "EUjUNqVcTEXP"
   },
   "source": [
    "## 1. Complétez les tables de probabilités ci-dessous"
   ]
  },
  {
   "cell_type": "code",
   "execution_count": 1,
   "metadata": {
    "colab": {
     "base_uri": "https://localhost:8080/"
    },
    "id": "D-rxnQmCCCPa",
    "outputId": "41396af3-a654-4db4-dd70-7879768209e3",
    "ExecuteTime": {
     "end_time": "2025-02-05T15:38:08.494515900Z",
     "start_time": "2025-02-05T15:38:08.395148300Z"
    }
   },
   "outputs": [
    {
     "name": "stdout",
     "output_type": "stream",
     "text": [
      "Pr(S)=\n",
      "[0.2 0.8]\n",
      "\n",
      "Pr(D)=\n",
      "[0.9 0.1]\n",
      "\n",
      "Pr(R|S)=\n",
      "[[0.9 0.1]\n",
      " [0.2 0.8]]\n",
      "\n",
      "Pr(G|S,D)=\n",
      "[[[0.5  0.3  0.2 ]\n",
      "  [0.9  0.08 0.02]]\n",
      "\n",
      " [[0.1  0.2  0.7 ]\n",
      "  [0.3  0.4  0.3 ]]]\n",
      "\n",
      "Pr(L|G)=\n",
      "[[0.9  0.1 ]\n",
      " [0.6  0.4 ]\n",
      " [0.01 0.99]]\n"
     ]
    }
   ],
   "source": [
    "import numpy as np\n",
    "np.set_printoptions(precision=5)\n",
    "\n",
    "# Les tableaux sont bâtis avec les dimensions (S, D, R, G, L)\n",
    "# et chaque dimension avec les probablités associées aux 2 ou 3 valeurs possibles ({0, 1} ou {0, 1, 2})\n",
    "\n",
    "Pr_S = np.array([0.2, 0.8]).reshape(2, 1, 1, 1, 1) # Donné en exemple\n",
    "Pr_D = np.array([0.9, 0.1]).reshape(1, 2, 1, 1, 1) # TODO\n",
    "Pr_R_given_S = np.array([[0.9, 0.1] , [0.2 , 0.8]]).reshape(2, 1, 2, 1, 1) # TODO\n",
    "Pr_G_given_SD = np.array([[[0.5 , 0.3 , 0.2] , [0.9 , 0.08 , 0.02]] , [[0.1 , 0.2 , 0.7] , [0.3 , 0.4 , 0.3]]]).reshape(2, 2, 1, 3, 1) # TODO\n",
    "Pr_L_given_G =  np.array([[0.9, 0.1] , [0.6 , 0.4] , [0.01 , 0.99]] ).reshape(1, 1, 1, 3, 2)  # TODO\n",
    "\n",
    "print (f\"Pr(S)=\\n{np.squeeze(Pr_S)}\\n\")\n",
    "print (f\"Pr(D)=\\n{np.squeeze(Pr_D)}\\n\")\n",
    "print (f\"Pr(R|S)=\\n{np.squeeze(Pr_R_given_S)}\\n\")\n",
    "print (f\"Pr(G|S,D)=\\n{np.squeeze(Pr_G_given_SD)}\\n\")\n",
    "print (f\"Pr(L|G)=\\n{np.squeeze(Pr_L_given_G)}\\n\")"
   ]
  },
  {
   "cell_type": "markdown",
   "metadata": {
    "id": "PHD6DX-nS6Qt"
   },
   "source": [
    "## 2. À l'aide de ces tables de probabilité conditionnelles, calculez les requêtes ci-dessous. Dans les cas où l'on compare un calcul non interventionnel à un calcul interventionnel, commentez sur l'interprétation physique des deux situations et les résultats obtenus à partir de vos modèles."
   ]
  },
  {
   "cell_type": "markdown",
   "metadata": {
    "id": "f-vXI0O279sX"
   },
   "source": [
    "a) $Pr(G) = [P (G = g^0), P (G = g^1), P (G = g^2)]$"
   ]
  },
  {
   "cell_type": "code",
   "execution_count": 2,
   "metadata": {
    "colab": {
     "base_uri": "https://localhost:8080/"
    },
    "id": "lXWtZDsv791d",
    "outputId": "55cbdbec-5b4a-4bc4-be15-9a41dda2483d",
    "ExecuteTime": {
     "end_time": "2025-01-27T20:58:30.556448500Z",
     "start_time": "2025-01-27T20:58:30.548294500Z"
    }
   },
   "outputs": [
    {
     "name": "stdout",
     "output_type": "stream",
     "text": [
      "Pr(G)=[0.204  0.2316 0.5644]\n"
     ]
    }
   ],
   "source": [
    "joint  = Pr_G_given_SD * Pr_S * Pr_D* Pr_R_given_S * Pr_L_given_G\n",
    "answer_a = np.sum(joint, axis=(0, 1, 2 , 4)) # TODO\n",
    "print(f\"Pr(G)={answer_a}\")"
   ]
  },
  {
   "cell_type": "code",
   "execution_count": 3,
   "metadata": {
    "colab": {
     "base_uri": "https://localhost:8080/"
    },
    "id": "rtY9PF7spCQ4",
    "outputId": "e1b4c9f0-5458-4a86-9a02-1fef5b440dd4",
    "ExecuteTime": {
     "end_time": "2025-01-27T20:58:30.571875700Z",
     "start_time": "2025-01-27T20:58:30.552937400Z"
    }
   },
   "outputs": [
    {
     "data": {
      "text/plain": "(3,)"
     },
     "execution_count": 3,
     "metadata": {},
     "output_type": "execute_result"
    }
   ],
   "source": [
    "answer_a.shape"
   ]
  },
  {
   "cell_type": "markdown",
   "metadata": {
    "id": "k7fla36P79_G"
   },
   "source": [
    "\n",
    "\n",
    "```\n",
    "# Ce texte est au format code\n",
    "```\n",
    "\n",
    "b) $Pr(G|R = r^1)$"
   ]
  },
  {
   "cell_type": "code",
   "execution_count": 4,
   "metadata": {
    "colab": {
     "base_uri": "https://localhost:8080/"
    },
    "id": "1Jp2AGLa7-H_",
    "outputId": "25c7c465-8033-48c7-a952-07d23bdb02c6",
    "ExecuteTime": {
     "end_time": "2025-01-27T20:58:30.576155500Z",
     "start_time": "2025-01-27T20:58:30.558400100Z"
    }
   },
   "outputs": [
    {
     "name": "stdout",
     "output_type": "stream",
     "text": [
      "Pr(G|R=r1)=[0.13273 0.22176 0.64552]\n"
     ]
    }
   ],
   "source": [
    "Pr_GR = np.sum(Pr_G_given_SD * Pr_R_given_S[:, :, 1:2, :, :] * Pr_S  * Pr_D, axis=(0, 1)) # TODO\n",
    "Pr_R = np.sum(\n",
    "    Pr_R_given_S[:, :, 1:2, :, :] * Pr_S,\n",
    "    axis=(0, 1, 2, 4)  # Somme sur S et les autres dimensions\n",
    ")\n",
    "answer_b = (Pr_GR / Pr_R).squeeze()\n",
    "print(f\"Pr(G|R=r1)={answer_b}\")"
   ]
  },
  {
   "cell_type": "code",
   "execution_count": 5,
   "metadata": {
    "colab": {
     "base_uri": "https://localhost:8080/"
    },
    "id": "Q3VEAVNY-oso",
    "outputId": "3e95a68d-3d2b-4bb9-fb34-5abc353e0dc8",
    "ExecuteTime": {
     "end_time": "2025-01-27T20:58:30.641404600Z",
     "start_time": "2025-01-27T20:58:30.562908500Z"
    }
   },
   "outputs": [
    {
     "name": "stdout",
     "output_type": "stream",
     "text": [
      "Pr(G|R=r1)=[0.13273 0.22176 0.64552]\n"
     ]
    }
   ],
   "source": [
    "Pr_GR = np.sum(joint[: , : , 1:2 ,: ,:] , axis=(0,1,4))\n",
    "Pr_R = np.sum(joint[: , : , 1:2 ,: ,:] , axis=(0,1,3,4))\n",
    "answer_b = (Pr_GR / Pr_R).squeeze()\n",
    "print(f\"Pr(G|R=r1)={answer_b}\")"
   ]
  },
  {
   "cell_type": "markdown",
   "metadata": {
    "id": "O8mt03aX7-WC"
   },
   "source": [
    "c)  $Pr(G|R = r^0)$"
   ]
  },
  {
   "cell_type": "code",
   "execution_count": 6,
   "metadata": {
    "colab": {
     "base_uri": "https://localhost:8080/"
    },
    "id": "nk_zBLQ7di_e",
    "outputId": "27fdb413-59ae-48e9-aa4d-10be47538d6a",
    "ExecuteTime": {
     "end_time": "2025-01-27T20:58:30.641404600Z",
     "start_time": "2025-01-27T20:58:30.568650Z"
    }
   },
   "outputs": [
    {
     "name": "stdout",
     "output_type": "stream",
     "text": [
      "Pr(G|R=r0)=[0.34235 0.25071 0.40694]\n"
     ]
    }
   ],
   "source": [
    "Pr_GR = np.sum(joint[: , : , 0:1 ,: ,:] , axis=(0,1,4))\n",
    "Pr_R = np.sum(joint[: , : , 0:1 ,: ,:] , axis=(0,1,2,3,4))\n",
    "\n",
    "answer_c = (Pr_GR / Pr_R).squeeze()\n",
    "print(f\"Pr(G|R=r0)={answer_c}\")"
   ]
  },
  {
   "cell_type": "markdown",
   "metadata": {
    "id": "dSK8ulij7-m0"
   },
   "source": [
    "d) $Pr(G|R=r^1, S=s^0)$"
   ]
  },
  {
   "cell_type": "code",
   "execution_count": 7,
   "metadata": {
    "colab": {
     "base_uri": "https://localhost:8080/"
    },
    "id": "rKJL7JskHP8_",
    "outputId": "2ba75b2d-6e8c-4c1d-e21a-fef739c63d69",
    "ExecuteTime": {
     "end_time": "2025-01-27T20:58:30.695508500Z",
     "start_time": "2025-01-27T20:58:30.572878300Z"
    }
   },
   "outputs": [
    {
     "data": {
      "text/plain": "0.3400000000000001"
     },
     "execution_count": 7,
     "metadata": {},
     "output_type": "execute_result"
    }
   ],
   "source": [
    "Pr_R"
   ]
  },
  {
   "cell_type": "code",
   "execution_count": 8,
   "metadata": {
    "colab": {
     "base_uri": "https://localhost:8080/"
    },
    "id": "cliFsd8f7-vC",
    "outputId": "c451c795-1368-4e5c-fa6c-0d410ebdba7d",
    "ExecuteTime": {
     "end_time": "2025-01-27T20:58:30.698597100Z",
     "start_time": "2025-01-27T20:58:30.578156300Z"
    }
   },
   "outputs": [
    {
     "name": "stdout",
     "output_type": "stream",
     "text": [
      "Pr(G|R=r1, S=s0)=[0.54  0.278 0.182]\n"
     ]
    }
   ],
   "source": [
    "\n",
    "answer_d =  np.sum(Pr_G_given_SD[0:1  , : , : , : , :]  * Pr_S[0:1 , : , : , : , :]  * Pr_D, axis=(0, 1 , 2 , 4))/np.squeeze(Pr_S[0:1 , : , : , : , :])\n",
    "\n",
    "print(f\"Pr(G|R=r1, S=s0)={answer_d}\")"
   ]
  },
  {
   "cell_type": "code",
   "execution_count": 9,
   "metadata": {
    "colab": {
     "base_uri": "https://localhost:8080/"
    },
    "id": "cRyT4T0WF8tH",
    "outputId": "f4b0a112-3fa4-490c-b316-2d1e0f7e12e8",
    "ExecuteTime": {
     "end_time": "2025-01-27T20:58:30.716763200Z",
     "start_time": "2025-01-27T20:58:30.583545600Z"
    }
   },
   "outputs": [
    {
     "name": "stdout",
     "output_type": "stream",
     "text": [
      "Pr(G|R=r1, S=s0)=[0.54  0.278 0.182]\n"
     ]
    }
   ],
   "source": [
    "Pr_GRS = np.sum(joint[0:1,:,1:2,:,:] , axis=(0,1,2,4))\n",
    "Pr_RS = np.sum(joint[0:1 , : , 1:2 ,: ,:] , axis=(0,1,2,3,4))\n",
    "answer_d =  (Pr_GRS / Pr_RS).squeeze()\n",
    "print(f\"Pr(G|R=r1, S=s0)={answer_d}\")"
   ]
  },
  {
   "cell_type": "code",
   "execution_count": 9,
   "metadata": {
    "id": "eDlylCAdtGE_",
    "ExecuteTime": {
     "end_time": "2025-01-27T20:58:30.716763200Z",
     "start_time": "2025-01-27T20:58:30.588344300Z"
    }
   },
   "outputs": [],
   "source": []
  },
  {
   "cell_type": "markdown",
   "metadata": {
    "id": "zffAAOW67-5I"
   },
   "source": [
    "e) $Pr(G|R=r^0, S=s^0)$"
   ]
  },
  {
   "cell_type": "code",
   "execution_count": 10,
   "metadata": {
    "colab": {
     "base_uri": "https://localhost:8080/"
    },
    "id": "9zyt7TeB7_CD",
    "outputId": "5ab4f16a-7b6a-49c1-ae27-e48945d35e03",
    "ExecuteTime": {
     "end_time": "2025-01-27T20:58:30.833386500Z",
     "start_time": "2025-01-27T20:58:30.679456100Z"
    }
   },
   "outputs": [
    {
     "name": "stdout",
     "output_type": "stream",
     "text": [
      "Pr(G|R=r0, S=s0)=[4.86  2.502 1.638]\n"
     ]
    }
   ],
   "source": [
    "Pr_GRS = np.sum(joint[0:1,:,0:1,:,:] , axis=(0,1,2,4))\n",
    "Pr_RS = np.sum(joint[0:1 , : , 1:2 ,: ,:] , axis=(0,1,2,3,4))\n",
    "\n",
    "answer_e = (Pr_GRS / Pr_RS).squeeze()  # TODO\n",
    "print(f\"Pr(G|R=r0, S=s0)={answer_e}\")"
   ]
  },
  {
   "cell_type": "markdown",
   "metadata": {
    "id": "PeIkZjn47_LZ"
   },
   "source": [
    "f) $Pr(R|D=d^1)$"
   ]
  },
  {
   "cell_type": "code",
   "execution_count": 11,
   "metadata": {
    "colab": {
     "base_uri": "https://localhost:8080/"
    },
    "id": "Yscy5bf27_Sq",
    "outputId": "693d4d45-7a65-4e1b-834c-e143cd69c6b2",
    "ExecuteTime": {
     "end_time": "2025-01-27T20:58:31.217962500Z",
     "start_time": "2025-01-27T20:58:31.186250600Z"
    }
   },
   "outputs": [
    {
     "name": "stdout",
     "output_type": "stream",
     "text": [
      "Pr(R|D=d1)=[0.34 0.66]\n"
     ]
    }
   ],
   "source": [
    "Pr_RD =  np.sum(joint[:,1:2,:,:,:] , axis=(0,1,3,4))\n",
    "Pr_D1 =  np.sum(joint[:,1:2,:,: ,:] , axis=(0,1,2,3,4))\n",
    "answer_f = (Pr_RD / Pr_D1).squeeze()\n",
    "\n",
    "print(f\"Pr(R|D=d1)={answer_f}\")"
   ]
  },
  {
   "cell_type": "markdown",
   "metadata": {
    "id": "XbV8cFjU8TxQ"
   },
   "source": [
    "g) $Pr(R|D=d^0)$"
   ]
  },
  {
   "cell_type": "code",
   "execution_count": 12,
   "metadata": {
    "colab": {
     "base_uri": "https://localhost:8080/"
    },
    "id": "7jBgoNDz8T6z",
    "outputId": "209290fe-9618-475e-9708-326144d54415",
    "ExecuteTime": {
     "end_time": "2025-01-27T20:58:31.591610200Z",
     "start_time": "2025-01-27T20:58:31.561200800Z"
    }
   },
   "outputs": [
    {
     "name": "stdout",
     "output_type": "stream",
     "text": [
      "Pr(R|D=d0)=[0.34 0.66]\n"
     ]
    }
   ],
   "source": [
    "Pr_RD =  np.sum(joint[:,0:1,:,:,:] , axis=(0,1,3,4))\n",
    "Pr_D1 =  np.sum(joint[:,0:1,:,: ,:] , axis=(0,1,2,3,4))\n",
    "answer_g = (Pr_RD / Pr_D1).squeeze()   # TODO\n",
    "print(f\"Pr(R|D=d0)={answer_g}\")"
   ]
  },
  {
   "cell_type": "markdown",
   "metadata": {
    "id": "05xm-VaW8UQh"
   },
   "source": [
    "**h**) $Pr(R|D=d^1, G=g^2)$"
   ]
  },
  {
   "cell_type": "code",
   "execution_count": 13,
   "metadata": {
    "colab": {
     "base_uri": "https://localhost:8080/"
    },
    "id": "shjD8GIL8UZV",
    "outputId": "b6613552-3c9d-4c7f-d299-a5ef62010b07",
    "ExecuteTime": {
     "end_time": "2025-01-27T20:58:31.933320300Z",
     "start_time": "2025-01-27T20:58:31.898843800Z"
    }
   },
   "outputs": [
    {
     "name": "stdout",
     "output_type": "stream",
     "text": [
      "Pr(R|D=d1, G=g2)=[0.21148 0.78852]\n"
     ]
    }
   ],
   "source": [
    "Pr_RDG =  np.sum(joint[:,1:2,:,2:3,:] , axis=(0,1,3,4))\n",
    "Pr_DG =  np.sum(joint[:,1:2,:,2:3 ,:] , axis=(0,1,2,3,4))\n",
    "answer_h =  (Pr_RDG / Pr_DG).squeeze()   # TODO\n",
    "print(f\"Pr(R|D=d1, G=g2)={answer_h}\")"
   ]
  },
  {
   "cell_type": "markdown",
   "metadata": {
    "id": "9i2ahKAj8Umu"
   },
   "source": [
    "i) $Pr(R|D=d^0, G=g^2)$"
   ]
  },
  {
   "cell_type": "code",
   "execution_count": 14,
   "metadata": {
    "colab": {
     "base_uri": "https://localhost:8080/"
    },
    "id": "2nLKd4c18UuA",
    "outputId": "6906a2d2-20d6-444c-99ac-bdbfb47de44a",
    "ExecuteTime": {
     "end_time": "2025-01-27T20:58:32.214624300Z",
     "start_time": "2025-01-27T20:58:32.196444Z"
    }
   },
   "outputs": [
    {
     "name": "stdout",
     "output_type": "stream",
     "text": [
      "Pr(R|D=d0, G=g2)=[0.24667 0.75333]\n"
     ]
    }
   ],
   "source": [
    "Pr_RDG =  np.sum(joint[:,0:1,:,2:3,:] , axis=(0,1,3,4))\n",
    "Pr_DG =  np.sum(joint[:,0:1,:,2:3 ,:] , axis=(0,1,2,3,4))\n",
    "answer_i =  (Pr_RDG / Pr_DG).squeeze()   # TODO\n",
    "print(f\"Pr(R|D=d0, G=g2)={answer_i}\")"
   ]
  },
  {
   "cell_type": "markdown",
   "metadata": {
    "id": "iUc0EpO18eA-"
   },
   "source": [
    "j) $Pr(R|D=d^1, L=l^1)$"
   ]
  },
  {
   "cell_type": "code",
   "execution_count": 15,
   "metadata": {
    "colab": {
     "base_uri": "https://localhost:8080/"
    },
    "id": "mgDLu0nJ8eM2",
    "outputId": "fe95b7f4-29da-418b-d4ce-7a38834e2fdd",
    "ExecuteTime": {
     "end_time": "2025-01-27T20:58:32.515272100Z",
     "start_time": "2025-01-27T20:58:32.497165900Z"
    }
   },
   "outputs": [
    {
     "name": "stdout",
     "output_type": "stream",
     "text": [
      "Pr(R|D=d1, L=l1)=[0.2475 0.7525]\n"
     ]
    }
   ],
   "source": [
    "Pr_RDL =  np.sum(joint[:,1:2,:,:, 1:2] , axis=(0,1,3,4))\n",
    "Pr_DL =  np.sum(joint[:,1:2,:,: ,1:2] , axis=(0,1,2,3,4))\n",
    "answer_j =  (Pr_RDL / Pr_DL).squeeze() # TODO\n",
    "print(f\"Pr(R|D=d1, L=l1)={answer_j}\")"
   ]
  },
  {
   "cell_type": "markdown",
   "metadata": {
    "id": "G2rCcDgyuo5c"
   },
   "source": [
    "k) $Pr(R|D=d^0, L=l^1)$"
   ]
  },
  {
   "cell_type": "code",
   "execution_count": 16,
   "metadata": {
    "colab": {
     "base_uri": "https://localhost:8080/"
    },
    "id": "dpt2RPQqvHbj",
    "outputId": "f366d24f-8513-49dd-b656-448eeb222dfc",
    "ExecuteTime": {
     "end_time": "2025-01-27T20:58:32.869093200Z",
     "start_time": "2025-01-27T20:58:32.833290300Z"
    }
   },
   "outputs": [
    {
     "name": "stdout",
     "output_type": "stream",
     "text": [
      "Pr(R|D=d1, L=l1)=[0.2736 0.7264]\n"
     ]
    }
   ],
   "source": [
    "Pr_RDL =  np.sum(joint[:,0:1,:,:, 1:2] , axis=(0,1,3,4))\n",
    "Pr_DL =  np.sum(joint[:,0:1,:,: ,1:2] , axis=(0,1,2,3,4))\n",
    "answer_k =  (Pr_RDL / Pr_DL).squeeze() # TODO\n",
    "print(f\"Pr(R|D=d1, L=l1)={answer_k}\")"
   ]
  },
  {
   "cell_type": "markdown",
   "metadata": {
    "id": "eiHUsWItvL2p"
   },
   "source": [
    "l) $Pr(R|do(G=g^2))$"
   ]
  },
  {
   "cell_type": "code",
   "execution_count": 17,
   "metadata": {
    "colab": {
     "base_uri": "https://localhost:8080/"
    },
    "id": "ag5OS3B_vT35",
    "outputId": "c3816259-c4e3-4e10-b174-5ec6ddb5289c",
    "ExecuteTime": {
     "end_time": "2025-01-27T20:58:33.239780200Z",
     "start_time": "2025-01-27T20:58:33.205927200Z"
    }
   },
   "outputs": [
    {
     "name": "stdout",
     "output_type": "stream",
     "text": [
      "Pr(R|do(G=g2))=[0.34 0.66]\n"
     ]
    }
   ],
   "source": [
    "joint_2 = Pr_L_given_G[:,:,:,2:3 ,:] * Pr_R_given_S * Pr_S * Pr_D\n",
    "answer_l =  np.sum(joint_2[:,:,:,:,:] , axis=(0,1,3,4)) # TODO\n",
    "print(f\"Pr(R|do(G=g2))={answer_l}\")"
   ]
  },
  {
   "cell_type": "markdown",
   "metadata": {
    "id": "Dm1JoSs51P6l"
   },
   "source": [
    "m) $Pr(R|G=g^2)$"
   ]
  },
  {
   "cell_type": "code",
   "execution_count": 18,
   "metadata": {
    "colab": {
     "base_uri": "https://localhost:8080/"
    },
    "id": "JtZ_-padMHJg",
    "outputId": "6a66c5a3-eaea-481b-9afe-b1503f2e31a9",
    "ExecuteTime": {
     "end_time": "2025-01-27T20:58:33.548239Z",
     "start_time": "2025-01-27T20:58:33.540417600Z"
    }
   },
   "outputs": [
    {
     "data": {
      "text/plain": "(2, 2, 2, 1, 2)"
     },
     "execution_count": 18,
     "metadata": {},
     "output_type": "execute_result"
    }
   ],
   "source": [
    "joint_2.shape"
   ]
  },
  {
   "cell_type": "code",
   "execution_count": 19,
   "metadata": {
    "colab": {
     "base_uri": "https://localhost:8080/"
    },
    "id": "8lT5Bhwm1Vca",
    "outputId": "9e866395-f3ba-437a-de03-c891cbc3bdf5",
    "ExecuteTime": {
     "end_time": "2025-01-27T20:58:33.757097900Z",
     "start_time": "2025-01-27T20:58:33.738432400Z"
    }
   },
   "outputs": [
    {
     "name": "stdout",
     "output_type": "stream",
     "text": [
      "Pr(R|G=g2)=[0.24515 0.75485]\n"
     ]
    }
   ],
   "source": [
    "Pr_RG =  np.sum(joint[:,:,:,2:3,:] , axis=(0,1,3,4))\n",
    "Pr_G2 =  np.sum(joint[:,:,:,2:3 ,:] , axis=(0,1,2,3,4))\n",
    "answer_m = (Pr_RG / Pr_G2).squeeze() # TODO\n",
    "print(f\"Pr(R|G=g2)={answer_m}\")"
   ]
  },
  {
   "cell_type": "markdown",
   "metadata": {
    "id": "2yAntka31ZDh"
   },
   "source": [
    "n) $Pr(R)$"
   ]
  },
  {
   "cell_type": "code",
   "execution_count": 20,
   "metadata": {
    "colab": {
     "base_uri": "https://localhost:8080/"
    },
    "id": "3156HkiD1mNe",
    "outputId": "44d16fbc-2b84-4cac-8b2e-524202248642",
    "ExecuteTime": {
     "end_time": "2025-01-27T20:58:34.085466400Z",
     "start_time": "2025-01-27T20:58:34.064698800Z"
    }
   },
   "outputs": [
    {
     "name": "stdout",
     "output_type": "stream",
     "text": [
      "Pr(R=[0.34 0.66]\n"
     ]
    }
   ],
   "source": [
    "answer_n = np.sum(Pr_R_given_S * Pr_S, axis=(0,1,3 ,4)) # TODO\n",
    "print(f\"Pr(R={answer_n}\")"
   ]
  },
  {
   "cell_type": "markdown",
   "metadata": {
    "id": "wR0NIlpE1dni"
   },
   "source": [
    "o) $Pr(G|do(L=l^1))$"
   ]
  },
  {
   "cell_type": "code",
   "execution_count": 21,
   "metadata": {
    "colab": {
     "base_uri": "https://localhost:8080/"
    },
    "id": "N_SfC2CJ1bb7",
    "outputId": "df012768-e5f2-424b-d23a-ab04e10ca549",
    "ExecuteTime": {
     "end_time": "2025-01-27T20:58:34.471955200Z",
     "start_time": "2025-01-27T20:58:34.438716800Z"
    }
   },
   "outputs": [
    {
     "name": "stdout",
     "output_type": "stream",
     "text": [
      "Pr(G|do(L=l1))=[0.204  0.2316 0.5644]\n"
     ]
    }
   ],
   "source": [
    "joint_3 = Pr_G_given_SD * Pr_S * Pr_D * Pr_R_given_S\n",
    "answer_o =  np.sum( joint_3, axis=(0,1,2,4))# TODO\n",
    "print(f\"Pr(G|do(L=l1))={answer_o}\")"
   ]
  },
  {
   "cell_type": "markdown",
   "metadata": {
    "id": "Ac48SDKS1x8p"
   },
   "source": [
    "p) $Pr(G=1|L=l^1)$"
   ]
  },
  {
   "cell_type": "code",
   "execution_count": 21,
   "metadata": {
    "id": "0JBIIfpDOHvy",
    "ExecuteTime": {
     "end_time": "2025-01-27T20:58:34.873685700Z",
     "start_time": "2025-01-27T20:58:34.853340200Z"
    }
   },
   "outputs": [],
   "source": []
  },
  {
   "cell_type": "code",
   "execution_count": 22,
   "metadata": {
    "colab": {
     "base_uri": "https://localhost:8080/"
    },
    "id": "8dNsTqjJ11P3",
    "outputId": "50aa07b4-b547-4d14-c4e5-67df5d86ab66",
    "ExecuteTime": {
     "end_time": "2025-01-27T20:58:35.077101500Z",
     "start_time": "2025-01-27T20:58:35.046879500Z"
    }
   },
   "outputs": [
    {
     "name": "stdout",
     "output_type": "stream",
     "text": [
      "Pr(G=1|L=l1)=0.13789900505510602\n"
     ]
    }
   ],
   "source": [
    "Pr_GL =  np.sum(joint[:,:,:,:,1:2] , axis=(0,1,2,4))\n",
    "Pr_L1 =  np.sum(joint[:,:,:,:,1:2] , axis=(0,1,2,3,4))\n",
    "\n",
    "answer_p = (Pr_GL / Pr_L1).squeeze()[1]  # TODO\n",
    "print(f\"Pr(G=1|L=l1)={answer_p}\")"
   ]
  },
  {
   "cell_type": "markdown",
   "metadata": {
    "id": "cpoOrxiaHV43"
   },
   "source": [
    "**Réponse:**"
   ]
  },
  {
   "cell_type": "markdown",
   "metadata": {
    "id": "fqfqhDoL5CfA"
   },
   "source": [
    "# Partie 2 (20 points)"
   ]
  },
  {
   "cell_type": "markdown",
   "metadata": {
    "id": "ZjIVlyRq5CjA"
   },
   "source": [
    "## Objectif\n",
    "\n",
    "L’objectif de la partie 2 du travail pratique est de permettre à l’étudiant de se familiariser avec l’apprentissage automatique via la régression logistique. Nous allons donc résoudre un problème de classification d'images en utilisant l’approche de descente du gradient (gradient descent) pour optimiser la log-vraisemblance négative (negative log-likelihood) comme fonction de perte.\n",
    "\n",
    "L'algorithme à implémenter est une variation de descente de gradient qui s’appelle l’algorithme de descente de gradient stochastique par mini-ensemble (mini-batch stochastic gradient descent).  Votre objectif est d’écrire un programme en Python pour optimiser les paramètres d’un modèle étant donné un ensemble de données d’apprentissage, en utilisant un ensemble de validation pour déterminer quand arrêter l'optimisation, et finalement de montrer la performance sur l’ensemble du test."
   ]
  },
  {
   "cell_type": "markdown",
   "metadata": {
    "id": "vFxYYRQJ5Cnb"
   },
   "source": [
    "## Théorie: la régression logistique et le calcul du gradient\n",
    "\n",
    "\n",
    "Il est possible d’encoder l’information concernant l’étiquetage avec des vecteurs multinomiaux (one-hot vectors), c.-à-d. un vecteur de zéros avec un seul 1 pour indiquer quand la classe $C=k$ dans la dimension $k$. Par exemple, le vecteur $\\mathbf{y}=[0, 1, 0, \\cdots, 0]^T$ représente la deuxième classe. Les caractéristiques (features) sont données par des vecteurs $\\mathbf{x}_i \\in \\mathbb{R}^{D}$. En définissant les paramètres de notre modèle comme : $\\mathbf{W}=[\\mathbf{w}_1, \\cdots, \\mathbf{w}_K]^T$ et $\\mathbf{b}=[b_1, b_2, \\cdots  b_K]^T$ et la fonction softmax comme fonction de sortie, on peut exprimer notre modèle sous la forme :\n",
    "\\begin{eqnarray}\n",
    "    p(\\mathbf{y}|\\mathbf{x})\n",
    "    &=& \\frac{\\exp(\\mathbf{y}^T \\mathbf{W} \\mathbf{x} + \\mathbf{y}^T \\mathbf{b})}{\\sum_{\\mathbf{y}_k \\in \\mathscr{Y}} \\exp(\\mathbf{y}_k^T \\mathbf{W} \\mathbf{x} + \\mathbf{y}_k^T \\mathbf{b})}\n",
    "\\end{eqnarray}\n",
    "L'ensemble de données consiste de $n$ paires (label, input) de la forme $\\mathscr{D}:=(\\mathbf{\\tilde{y}}_i, \\mathbf{\\tilde{x}}_i)_{i=1}^n$, où nous utilisons l'astuce de redéfinir $\\mathbf{\\tilde{x}}_i = [\\mathbf{\\tilde{x}}_i^T 1]^T$ et nous redéfinissions la matrice de paramètres $\\boldsymbol{\\theta} \\in \\mathbb{R}^{K\\times(D+1)}$ (voir des notes de cours pour la relation entre $\\boldsymbol{\\theta}$ et $\\mathbf{W}$). Notre fonction de perte, la log-vraisemblance négative des données selon notre modèle est définie comme:\n",
    "\\begin{equation}\n",
    "    \\mathscr{L}\\big( \\boldsymbol{\\theta}, \\mathscr{D} \\big) := -\\log \\prod_{i=1}^N P(\\mathbf{\\tilde{y}}_i|\\mathbf{\\tilde{x}}_i; \\boldsymbol{\\theta})\n",
    "\\end{equation}\n",
    "Pour cette partie du TP, nous avons calculé pour vous le gradient de la fonction de perte par rapport par rapport aux paramètres du modèle:\n",
    "\\begin{eqnarray}\n",
    "    \\frac{\\partial}{\\partial \\boldsymbol{\\theta}} \\mathscr{L}\\big( \\boldsymbol{\\theta}, \\mathscr{D} \\big)\n",
    "    &=& -\\sum_{i=1}^N \\frac{\\partial}{\\partial \\boldsymbol{\\theta}} \\Bigg\\{\\log \\Bigg(\\frac{\\exp(\\mathbf{\\tilde{y}}_i^T \\boldsymbol{\\theta} \\mathbf{\\tilde{x}}_i)}{\\sum_{\\mathbf{y}_k \\in \\mathscr{Y}} \\exp(\\mathbf{y}_k^T \\boldsymbol{\\theta} \\mathbf{\\tilde{x}}_i)} \\Bigg) \\Bigg\\} \\\\\n",
    "    &=& -\\sum_{i=1}^N \\left(\\mathbf{\\tilde{y}}_i \\mathbf{\\tilde{x}}^T_i- \\sum_{\\mathbf{y}_k \\in \\mathscr{Y}} P(\\mathbf{y}_k|\\mathbf{\\tilde{x}}_i,\\boldsymbol{\\theta}) \\mathbf{y}_k \\mathbf{\\tilde{x}}^T_i \\right) \\\\\n",
    "    &=& \\sum_{i=1}^N \\mathbf{\\hat{p}}_i \\mathbf{\\tilde{x}}^T_i - \\sum_{i=1}^N \\mathbf{\\tilde{y}}_i \\mathbf{\\tilde{x}}^T_i\n",
    "\\end{eqnarray}\n",
    "où $\\mathbf{\\hat{p}}_i$ est un vecteur de probabilités produit par le modèle pour l'exemple $\\mathbf{\\tilde{x}}_i$ et $\\mathbf{\\tilde{y}}_i$ est le vrai *label* pour ce même exemple.\n",
    "\n",
    "Finalement, il reste à discuter de l'évaluation du modèle. Pour la tâche d'intérêt, qui est une instance du problème de classification, il existe plusieurs métriques pour mesurer les performances du modèle la précision de classification, l'erreur de classification, le taux de faux/vrai positifs/négatifs, etc. Habituellement dans le contexte de l'apprentissage automatique, la précision est la plus commune.\n",
    "\n",
    "La précision est définie comme le rapport du nombre d'échantillons bien classés sur le nombre total d'échantillons à classer:\n",
    "$$\n",
    "\\tau_{acc} := \\frac{|\\mathscr{C}|}{|\\mathscr{D}|}\n",
    "$$\n",
    "où l'ensemble des échantillons bien classés $\\mathscr{C}$ est:\n",
    "$$\n",
    "\\mathscr{C} := \\lbrace (\\mathbf{x}, \\mathbf{y}) \\in \\mathscr{D} \\, | \\, \\underset{k}{\\arg\\max} \\, \\, P(\\cdot|\\mathbf{\\tilde{x}}_i; \\boldsymbol{\\theta})_k = \\underset{k}{\\arg\\max} \\, \\, \\tilde{y}_{i,k} \\rbrace\n",
    "$$\n",
    "En mots, il s'agit du sous-ensemble d'échantillons pour lesquels la classe la plus probable selon notre modèle correspond à la vraie classe."
   ]
  },
  {
   "cell_type": "markdown",
   "metadata": {
    "id": "Ffr5uSLRzkkY"
   },
   "source": []
  },
  {
   "cell_type": "markdown",
   "metadata": {
    "id": "x3wjjnIDGHZj"
   },
   "source": [
    "## Description des tâches\n",
    "\n",
    "#### 1. Code à compléter\n",
    "\n",
    "On vous demande de compléter l'extrait de code ci-dessous pour résoudre ce problème. Vous devez utiliser la librairie PyTorch cette partie du TP: https://pytorch.org/docs/stable/index.html. Mettez à jour les paramètres de votre modèle avec la descente par *mini-batch*. Exécutez des expériences avec trois différents ensembles: un ensemble d’apprentissages avec 90\\% des exemples (choisis au hasard), un ensemble de validation avec 10\\%. Utilisez uniquement l'ensemble de test pour obtenir votre meilleur résultat une fois que vous pensez avoir obtenu votre meilleure stratégie pour entraîner le modèle.\n",
    "\n",
    "#### 2. Rapport à rédiger\n",
    "\n",
    "Présentez vos résultats dans un rapport. Ce rapport devrait inclure:\n",
    "\n",
    "- **Recherche d'hyperparamètres:** Faites une recherche d'hyperparamètres pour différents taux d'apprentissage, e.g. 0.1, 0.01, 0.001, et différentes tailles de mini-batch, e.g. 1, 20, 200, 1000 pour des modèles entrainés avec SGD. Présentez dans un tableau la précision finale du modèle, sur l'*ensemble de validation*, pour ces différentes combinaisons d'hyperparamètres.\n",
    "\n",
    "- **Analyse du meilleur modèle:** Pour votre meilleur modèle, présentez deux figures montrant la progression de son apprentissage sur l'*ensembe d'entrainement et l'ensemble de validation*. La première figure montrant les courbes de log-vraisemblance négative moyenne après chaque epoch, la deuxième montrant la précision du modèle après chaque epoch. Finalement donnez la précision finale sur l'ensemble de test.\n",
    "\n",
    "- **Lire l'article de recherche -\n",
    "Adam**: a method for stochastic optimization. Kingma, D., \\& Ba, J. (2015). International Conference on Learning Representation (ICLR).\n",
    "https://arxiv.org/pdf/1412.6980.pdf. Implémentez Adam, répétez les deux étapes précédentes (recherche d'hyperparamètres et analyse du meilleur modèle) cette fois en utilisat Adam, et comparez les performances finales avec votre meilleur modèle SGD.\n",
    "\n",
    "**IMPORTANT**\n",
    "\n",
    "L'objectif du TP est de vous faire implémenter la rétropropagation à la main. **Il est donc interdit d'utiliser les capacités de construction de modèles ou de différentiation automatique de pytorch -- par exemple, aucun appels à torch.nn, torch.autograd ou à la méthode .backward().** L'objectif est d'implémenter un modèle de classification logistique ainsi que son entainement en utilisant uniquement des opérations matricielles de base fournies par PyTorch e.g. torch.sum(), torch.matmul(), etc."
   ]
  },
  {
   "cell_type": "markdown",
   "metadata": {
    "id": "oQq0nDgZuMfs"
   },
   "source": [
    "## Fonctions fournies"
   ]
  },
  {
   "cell_type": "code",
   "execution_count": 1,
   "metadata": {
    "id": "-U_jhXT_0Cbs",
    "ExecuteTime": {
     "end_time": "2025-02-06T02:13:55.780290700Z",
     "start_time": "2025-02-06T02:13:52.301623200Z"
    }
   },
   "outputs": [],
   "source": [
    "# fonctions pour charger les ensembles de donnees\n",
    "from torchvision.datasets import FashionMNIST\n",
    "from torchvision import transforms\n",
    "import torch\n",
    "from torch.utils.data import DataLoader, random_split\n",
    "from tqdm import tqdm\n",
    "import matplotlib.pyplot as plt\n",
    "\n",
    "def get_fashion_mnist_dataloaders(val_percentage=0.1, batch_size=1):\n",
    "  dataset = FashionMNIST(\"./dataset\", train=True,  download=True, transform=transforms.Compose([transforms.ToTensor()]))\n",
    "  dataset_test = FashionMNIST(\"./dataset\", train=False,  download=True, transform=transforms.Compose([transforms.ToTensor()]))\n",
    "  len_train = int(len(dataset) * (1.-val_percentage))\n",
    "  len_val = len(dataset) - len_train\n",
    "  dataset_train, dataset_val = random_split(dataset, [len_train, len_val])\n",
    "  data_loader_train = DataLoader(dataset_train, batch_size=batch_size,shuffle=True,num_workers=4)\n",
    "  data_loader_val   = DataLoader(dataset_val, batch_size=batch_size,shuffle=True,num_workers=4)\n",
    "  data_loader_test  = DataLoader(dataset_test, batch_size=batch_size,shuffle=True,num_workers=4)\n",
    "  return data_loader_train, data_loader_val, data_loader_test\n",
    "\n",
    "def reshape_input(x, y):\n",
    "    x = x.view(-1, 784)\n",
    "    y = torch.FloatTensor(len(y), 10).zero_().scatter_(1,y.view(-1,1),1)\n",
    "    return x, y\n",
    "\n",
    "\n",
    "# call this once first to download the datasets\n",
    "_ = get_fashion_mnist_dataloaders()"
   ]
  },
  {
   "cell_type": "code",
   "execution_count": 2,
   "metadata": {
    "id": "9H5BnbgAOpio",
    "ExecuteTime": {
     "end_time": "2025-02-06T02:13:55.835807200Z",
     "start_time": "2025-02-06T02:13:55.833803300Z"
    }
   },
   "outputs": [],
   "source": [
    "# simple logger to track progress during training\n",
    "class Logger:\n",
    "    def __init__(self):\n",
    "        self.losses_train = []\n",
    "        self.losses_valid = []\n",
    "        self.accuracies_train = []\n",
    "        self.accuracies_valid = []\n",
    "\n",
    "    def log(self, accuracy_train=0, loss_train=0, accuracy_valid=0, loss_valid=0):\n",
    "        self.losses_train.append(loss_train)\n",
    "        self.accuracies_train.append(accuracy_train)\n",
    "        self.losses_valid.append(loss_valid)\n",
    "        self.accuracies_valid.append(accuracy_valid)\n",
    "\n",
    "    def plot_loss_and_accuracy(self, train=True, valid=True):\n",
    "\n",
    "        assert train and valid, \"Cannot plot accuracy because neither train nor valid.\"\n",
    "\n",
    "        figure, (ax1, ax2) = plt.subplots(nrows=1, ncols=2,\n",
    "                                            figsize=(12, 6))\n",
    "\n",
    "        if train:\n",
    "            ax1.plot(self.losses_train, label=\"Training\")\n",
    "            ax2.plot(self.accuracies_train, label=\"Training\")\n",
    "        if valid:\n",
    "            ax1.plot(self.losses_valid, label=\"Validation\")\n",
    "            ax1.set_title(\"CrossEntropy Loss\")\n",
    "            ax2.plot(self.accuracies_valid, label=\"Validation\")\n",
    "            ax2.set_title(\"Accuracy\")\n",
    "\n",
    "        for ax in figure.axes:\n",
    "            ax.set_xlabel(\"Epoch\")\n",
    "            ax.legend(loc='best')\n",
    "            ax.set_axisbelow(True)\n",
    "            ax.minorticks_on()\n",
    "            ax.grid(True, which=\"major\", linestyle='-')\n",
    "            ax.grid(True, which=\"minor\", linestyle='--', color='lightgrey', alpha=.4)\n",
    "\n",
    "    def print_last(self):\n",
    "        print(f\"Epoch {len(self.losses_train):2d}, \\\n",
    "                Train:loss={self.losses_train[-1]:.3f}, accuracy={self.accuracies_train[-1]*100:.1f}%, \\\n",
    "                Valid: loss={self.losses_valid[-1]:.3f}, accuracy={self.losses_valid[-1]*100:.1f}%\", flush=True)"
   ]
  },
  {
   "cell_type": "markdown",
   "metadata": {
    "id": "vAJ5iiRUZw3f"
   },
   "source": [
    "## Aperçu de l'ensemble de données FashionMnist"
   ]
  },
  {
   "cell_type": "code",
   "execution_count": 3,
   "metadata": {
    "colab": {
     "base_uri": "https://localhost:8080/",
     "height": 345
    },
    "id": "fK-eNmc8Zv2d",
    "outputId": "9cd7a9e0-33ea-4664-fc52-2f9589b09ca4",
    "ExecuteTime": {
     "end_time": "2025-02-06T02:14:07.227016Z",
     "start_time": "2025-02-06T02:13:55.837811700Z"
    }
   },
   "outputs": [
    {
     "data": {
      "text/plain": "<Figure size 750x400 with 10 Axes>",
      "image/png": "[encoded data removed]"
     },
     "metadata": {},
     "output_type": "display_data"
    }
   ],
   "source": [
    "def plot_samples():\n",
    "  a, _, _ = get_fashion_mnist_dataloaders()\n",
    "  num_row = 2\n",
    "  num_col = 5# plot images\n",
    "  num_images = num_row * num_col\n",
    "  fig, axes = plt.subplots(num_row, num_col, figsize=(1.5*num_col,2*num_row))\n",
    "  for i, (x,y) in enumerate(a):\n",
    "      if i >= num_images:\n",
    "        break\n",
    "      ax = axes[i//num_col, i%num_col]\n",
    "      x = (x.numpy().squeeze() * 255).astype(int)\n",
    "      y = y.numpy()[0]\n",
    "      ax.imshow(x, cmap='gray')\n",
    "      ax.set_title(f\"Label: {y}\")\n",
    "\n",
    "  plt.tight_layout()\n",
    "  plt.show()\n",
    "plot_samples()"
   ]
  },
  {
   "cell_type": "markdown",
   "metadata": {
    "id": "EpZ8NK8_CAqW"
   },
   "source": [
    "## Fonctions à compléter"
   ]
  },
  {
   "cell_type": "code",
   "execution_count": 4,
   "metadata": {
    "id": "VSc19WnyQsFv",
    "ExecuteTime": {
     "end_time": "2025-02-06T02:14:07.227016Z",
     "start_time": "2025-02-06T02:14:07.217666200Z"
    }
   },
   "outputs": [],
   "source": [
    "def accuracy(y, y_pred) :\n",
    "    # todo : nombre d'éléments à classifier.\n",
    "    card_D = len(y)\n",
    "\n",
    "    # todo : calcul du nombre d'éléments bien classifiés.\n",
    "    card_C = torch.sum(torch.argmax(y_pred, dim=1) == torch.argmax(y, dim=1)).item()\n",
    "\n",
    "    # todo : calcul de la précision de classification.\n",
    "    acc = card_C/card_D\n",
    "\n",
    "    return acc, (card_C, card_D)\n",
    "\n",
    "def accuracy_and_loss_whole_dataset(data_loader, model):\n",
    "    cardinal = 0\n",
    "    loss     = 0.\n",
    "    n_accurate_preds  = 0.\n",
    "\n",
    "    for x, y in data_loader:\n",
    "        x, y = reshape_input(x, y)\n",
    "        y_pred                = model.forward(x)\n",
    "        xentrp                = cross_entropy(y, y_pred)\n",
    "        _, (n_acc, n_samples) = accuracy(y, y_pred)\n",
    "\n",
    "        cardinal = cardinal + n_samples\n",
    "        loss = loss + xentrp\n",
    "        n_accurate_preds  = n_accurate_preds + n_acc\n",
    "\n",
    "    loss = loss / float(cardinal)\n",
    "    acc  = n_accurate_preds / float(cardinal)\n",
    "\n",
    "    return acc, loss\n",
    "\n",
    "def cross_entropy(y, y_pred):\n",
    "    # todo : calcul de la valeur d'entropie croisée.\n",
    "    y_pred = torch.clamp(y_pred, min=1e-9, max=1.0)\n",
    "    loss = -torch.sum(y * torch.log(y_pred))\n",
    "    return loss.item()\n",
    "\n",
    "def softmax(x, axis=-1):\n",
    "    # assurez vous que la fonction est numeriquement stable\n",
    "    # e.g. softmax(torch.tensor([[1000, 10000, 100000],]))\n",
    "\n",
    "    # todo : calcul des valeurs de softmax(x)\n",
    "    x_max = torch.max(x, dim=axis, keepdim=True)\n",
    "    x = x - x_max.values\n",
    "    exp_x = torch.exp(x)\n",
    "    values = exp_x / torch.sum(exp_x, dim=axis, keepdim=True)\n",
    "\n",
    "    return values\n",
    "\n",
    "def inputs_tilde(x, axis=-1):\n",
    "    # augments the inputs `x` with ones along `axis`\n",
    "    # todo : implémenter code ici.\n",
    "    ones_shape = list(x.shape)\n",
    "\n",
    "    ones_shape[axis] = 1\n",
    "    ones = torch.ones(ones_shape, dtype=x.dtype, device=x.device)\n",
    "\n",
    "    # Concatenate the ones along the specified axis\n",
    "    x_tilde = torch.cat([x, ones], dim=axis)\n",
    "\n",
    "    return x_tilde"
   ]
  },
  {
   "cell_type": "code",
   "execution_count": 5,
   "metadata": {
    "id": "ya7J-i89GHnp",
    "ExecuteTime": {
     "end_time": "2025-02-06T02:14:07.235905600Z",
     "start_time": "2025-02-06T02:14:07.233833300Z"
    }
   },
   "outputs": [],
   "source": [
    "class LinearModel:\n",
    "    def __init__(self, num_features, num_classes):\n",
    "      self.params = torch.normal(0, 0.01, (num_features + 1, num_classes))\n",
    "\n",
    "      self.t = 0\n",
    "      self.m_t = 0 # pour Adam: moyennes mobiles du gradient\n",
    "      self.v_t = 0 # pour Adam: moyennes mobiles du carré du gradient\n",
    "\n",
    "    def forward(self, x):\n",
    "      # todo : implémenter calcul des outputs en fonction des inputs `x`.\n",
    "      inputs = inputs_tilde(x)\n",
    "      outputs = softmax(torch.matmul(inputs, self.params))\n",
    "      return outputs\n",
    "\n",
    "    def get_grads(self, y, y_pred, X):\n",
    "      # todo : implémenter calcul des gradients.\n",
    "      grads = inputs_tilde(X).T @ (y_pred - y)\n",
    "      return grads\n",
    "\n",
    "    def sgd_update(self, lr, grads):\n",
    "      # TODO : implémenter mise à jour des paramètres ici.\n",
    "      self.params -= lr * grads \n",
    "\n",
    "    def adam_update(self, lr, grads):\n",
    "      # TODO : implémenter mise à jour des paramètres ici.\n",
    "      B1 = 0.9\n",
    "      B2 = 0.999\n",
    "      eps = 1e-8\n",
    "      self.t += 1\n",
    "      self.m_t = 0.9 * self.m_t + 0.1 * grads\n",
    "      self.v_t = 0.999 * self.v_t + 0.001 * torch.square(grads)\n",
    "      m_hat = self.m_t / (1 - B1**self.t)\n",
    "      v_hat = self.v_t / (1 - B2**self.t)\n",
    "      self.params -= lr * m_hat / (torch.sqrt(v_hat) + eps)\n",
    "\n",
    "def train(model, lr=0.1, nb_epochs=10, sgd=True, data_loader_train=None, data_loader_val=None):\n",
    "    best_model = None\n",
    "    best_val_accuracy = 0\n",
    "    logger = Logger()\n",
    "\n",
    "    for epoch in range(nb_epochs+1):\n",
    "        # at epoch 0 evaluate random initial model\n",
    "        #   then for subsequent epochs, do optimize before evaluation.\n",
    "        #print(f\"epoch {epoch}\")\n",
    "        #print(data_loader_train)\n",
    "\n",
    "        if epoch > 0:\n",
    "          for x, y in data_loader_train:\n",
    "              x, y = reshape_input(x, y)\n",
    "              y_pred = model.forward(x)\n",
    "              loss = cross_entropy(y, y_pred)\n",
    "              grads = model.get_grads(y, y_pred, x)\n",
    "              if sgd:\n",
    "                model.sgd_update(lr, grads)\n",
    "              else:\n",
    "                model.adam_update(lr, grads)\n",
    "\n",
    "        accuracy_train, loss_train = accuracy_and_loss_whole_dataset(data_loader_train, model)\n",
    "        accuracy_val, loss_val = accuracy_and_loss_whole_dataset(data_loader_val, model)\n",
    "\n",
    "        if accuracy_val > best_val_accuracy:\n",
    "          best_val_accuracy = accuracy_val\n",
    "          best_model = model\n",
    "          #print(\"best model\")   # TODO : record the best model parameters and best validation accuracy\n",
    "\n",
    "        logger.log(accuracy_train, loss_train, accuracy_val, loss_val)\n",
    "        print(f\"Epoch {epoch:2d}, \\\n",
    "                Train: loss={loss_train:.3f}, accuracy={accuracy_train*100:.1f}%, \\\n",
    "                Valid: loss={loss_val:.3f}, accuracy={accuracy_val*100:.1f}%\", flush=True)\n",
    "\n",
    "    return best_model, best_val_accuracy, logger\n"
   ]
  },
  {
   "cell_type": "code",
   "execution_count": 14,
   "metadata": {
    "id": "YRtX_EXNQWoX",
    "ExecuteTime": {
     "end_time": "2025-02-05T22:48:04.608314900Z",
     "start_time": "2025-02-05T22:47:29.712618900Z"
    }
   },
   "outputs": [],
   "source": [
    "batch_size = 5\n",
    "data_loader_train, data_loader_val, data_loader_test = get_fashion_mnist_dataloaders(val_percentage=0.1, batch_size=batch_size)\n",
    "logger = Logger()\n",
    "model = LinearModel(num_features=784, num_classes=10)\n",
    "for x, y in data_loader_train:\n",
    "    #print(x.shape)\n",
    "    #print(y.shape)\n",
    "    x, y = reshape_input(x, y)\n",
    "\n",
    "    y_pred = model.forward(x)\n",
    "    loss = cross_entropy(y, y_pred)\n",
    "    grads = model.get_grads(y, y_pred, x)\n",
    "    model.sgd_update(0.1, grads)\n",
    "\n",
    "accuracy_train, loss_train = accuracy_and_loss_whole_dataset(data_loader_train, model)\n",
    "accuracy_val, loss_val = accuracy_and_loss_whole_dataset(data_loader_val, model)"
   ]
  },
  {
   "cell_type": "markdown",
   "metadata": {
    "id": "_zUGBmtf9pcA"
   },
   "source": [
    "## Évaluation"
   ]
  },
  {
   "cell_type": "markdown",
   "metadata": {
    "id": "eUuU5n979pcD"
   },
   "source": [
    "### SGD: Recherche d'hyperparamètres"
   ]
  },
  {
   "cell_type": "code",
   "execution_count": 15,
   "metadata": {
    "colab": {
     "base_uri": "https://localhost:8080/",
     "height": 480
    },
    "collapsed": true,
    "id": "4R_6Rxgq9pcE",
    "outputId": "bf63bfe8-3274-4ec8-e0e2-bb49251614e2",
    "ExecuteTime": {
     "end_time": "2025-02-05T23:29:26.396593Z",
     "start_time": "2025-02-05T22:48:04.613701200Z"
    }
   },
   "outputs": [
    {
     "name": "stdout",
     "output_type": "stream",
     "text": [
      "------------------------------------------------------------------\n",
      "Training model with a learning rate of 0.1 and a batch size of 1\n",
      "Epoch  0,                 Train: loss=2.317, accuracy=11.6%,                 Valid: loss=2.316, accuracy=12.1%\n",
      "Epoch  1,                 Train: loss=3.275, accuracy=73.8%,                 Valid: loss=3.283, accuracy=72.9%\n",
      "Epoch  2,                 Train: loss=2.547, accuracy=80.5%,                 Valid: loss=2.656, accuracy=79.8%\n",
      "Epoch  3,                 Train: loss=2.339, accuracy=80.2%,                 Valid: loss=2.463, accuracy=79.3%\n",
      "Epoch  4,                 Train: loss=1.732, accuracy=83.1%,                 Valid: loss=1.935, accuracy=81.8%\n",
      "Epoch  5,                 Train: loss=1.549, accuracy=85.3%,                 Valid: loss=1.798, accuracy=83.4%\n",
      "validation accuracy = 83.350\n",
      "------------------------------------------------------------------\n",
      "Training model with a learning rate of 0.1 and a batch size of 20\n",
      "Epoch  0,                 Train: loss=2.295, accuracy=11.4%,                 Valid: loss=2.296, accuracy=11.5%\n",
      "Epoch  1,                 Train: loss=4.008, accuracy=73.1%,                 Valid: loss=3.963, accuracy=73.4%\n",
      "Epoch  2,                 Train: loss=2.164, accuracy=83.4%,                 Valid: loss=2.177, accuracy=83.5%\n",
      "Epoch  3,                 Train: loss=2.491, accuracy=82.7%,                 Valid: loss=2.536, accuracy=82.5%\n",
      "Epoch  4,                 Train: loss=2.540, accuracy=81.2%,                 Valid: loss=2.662, accuracy=80.8%\n",
      "Epoch  5,                 Train: loss=3.717, accuracy=77.6%,                 Valid: loss=3.702, accuracy=77.7%\n",
      "validation accuracy = 83.533\n",
      "------------------------------------------------------------------\n",
      "Training model with a learning rate of 0.1 and a batch size of 200\n",
      "Epoch  0,                 Train: loss=2.295, accuracy=11.5%,                 Valid: loss=2.292, accuracy=11.8%\n",
      "Epoch  1,                 Train: loss=4.281, accuracy=77.8%,                 Valid: loss=4.125, accuracy=78.5%\n",
      "Epoch  2,                 Train: loss=3.085, accuracy=83.3%,                 Valid: loss=3.022, accuracy=83.3%\n",
      "Epoch  3,                 Train: loss=5.594, accuracy=71.1%,                 Valid: loss=5.451, accuracy=72.0%\n",
      "Epoch  4,                 Train: loss=4.424, accuracy=76.7%,                 Valid: loss=4.534, accuracy=76.3%\n",
      "Epoch  5,                 Train: loss=4.623, accuracy=75.6%,                 Valid: loss=4.653, accuracy=75.7%\n",
      "validation accuracy = 83.333\n",
      "------------------------------------------------------------------\n",
      "Training model with a learning rate of 0.1 and a batch size of 1000\n",
      "Epoch  0,                 Train: loss=2.334, accuracy=7.6%,                 Valid: loss=2.334, accuracy=7.4%\n",
      "Epoch  1,                 Train: loss=6.433, accuracy=68.3%,                 Valid: loss=6.380, accuracy=68.6%\n",
      "Epoch  2,                 Train: loss=6.932, accuracy=66.0%,                 Valid: loss=7.077, accuracy=65.4%\n",
      "Epoch  3,                 Train: loss=5.814, accuracy=71.4%,                 Valid: loss=5.800, accuracy=71.6%\n",
      "Epoch  4,                 Train: loss=4.878, accuracy=76.0%,                 Valid: loss=5.009, accuracy=75.3%\n",
      "Epoch  5,                 Train: loss=4.817, accuracy=76.3%,                 Valid: loss=4.730, accuracy=76.7%\n",
      "validation accuracy = 76.733\n",
      "------------------------------------------------------------------\n",
      "Training model with a learning rate of 0.01 and a batch size of 1\n",
      "Epoch  0,                 Train: loss=2.310, accuracy=16.5%,                 Valid: loss=2.309, accuracy=16.9%\n",
      "Epoch  1,                 Train: loss=0.641, accuracy=79.4%,                 Valid: loss=0.669, accuracy=79.0%\n",
      "Epoch  2,                 Train: loss=0.431, accuracy=85.6%,                 Valid: loss=0.462, accuracy=84.6%\n",
      "Epoch  3,                 Train: loss=0.474, accuracy=83.9%,                 Valid: loss=0.505, accuracy=82.8%\n",
      "Epoch  4,                 Train: loss=0.446, accuracy=85.1%,                 Valid: loss=0.491, accuracy=83.7%\n",
      "Epoch  5,                 Train: loss=0.449, accuracy=85.5%,                 Valid: loss=0.494, accuracy=83.9%\n",
      "validation accuracy = 84.617\n",
      "------------------------------------------------------------------\n",
      "Training model with a learning rate of 0.01 and a batch size of 20\n",
      "Epoch  0,                 Train: loss=2.326, accuracy=7.4%,                 Valid: loss=2.325, accuracy=7.4%\n",
      "Epoch  1,                 Train: loss=0.920, accuracy=77.3%,                 Valid: loss=0.955, accuracy=77.2%\n",
      "Epoch  2,                 Train: loss=0.591, accuracy=81.9%,                 Valid: loss=0.633, accuracy=81.0%\n",
      "Epoch  3,                 Train: loss=0.532, accuracy=84.6%,                 Valid: loss=0.568, accuracy=84.4%\n",
      "Epoch  4,                 Train: loss=0.564, accuracy=83.8%,                 Valid: loss=0.604, accuracy=83.9%\n",
      "Epoch  5,                 Train: loss=0.738, accuracy=81.2%,                 Valid: loss=0.776, accuracy=81.2%\n",
      "validation accuracy = 84.383\n",
      "------------------------------------------------------------------\n",
      "Training model with a learning rate of 0.01 and a batch size of 200\n",
      "Epoch  0,                 Train: loss=2.304, accuracy=10.4%,                 Valid: loss=2.303, accuracy=10.3%\n",
      "Epoch  1,                 Train: loss=1.606, accuracy=80.3%,                 Valid: loss=1.611, accuracy=80.2%\n",
      "Epoch  2,                 Train: loss=1.828, accuracy=79.6%,                 Valid: loss=1.896, accuracy=78.9%\n",
      "Epoch  3,                 Train: loss=3.421, accuracy=71.0%,                 Valid: loss=3.528, accuracy=70.0%\n",
      "Epoch  4,                 Train: loss=2.036, accuracy=80.6%,                 Valid: loss=2.147, accuracy=79.5%\n",
      "Epoch  5,                 Train: loss=3.716, accuracy=70.0%,                 Valid: loss=3.875, accuracy=68.8%\n",
      "validation accuracy = 80.250\n",
      "------------------------------------------------------------------\n",
      "Training model with a learning rate of 0.01 and a batch size of 1000\n",
      "Epoch  0,                 Train: loss=2.297, accuracy=6.5%,                 Valid: loss=2.297, accuracy=6.2%\n",
      "Epoch  1,                 Train: loss=6.145, accuracy=66.2%,                 Valid: loss=5.996, accuracy=66.8%\n",
      "Epoch  2,                 Train: loss=4.831, accuracy=72.9%,                 Valid: loss=4.868, accuracy=72.6%\n",
      "Epoch  3,                 Train: loss=3.515, accuracy=79.3%,                 Valid: loss=3.526, accuracy=79.4%\n",
      "Epoch  4,                 Train: loss=4.530, accuracy=74.6%,                 Valid: loss=4.380, accuracy=75.3%\n",
      "Epoch  5,                 Train: loss=4.670, accuracy=72.9%,                 Valid: loss=4.668, accuracy=73.2%\n",
      "validation accuracy = 79.417\n",
      "------------------------------------------------------------------\n",
      "Training model with a learning rate of 0.001 and a batch size of 1\n",
      "Epoch  0,                 Train: loss=2.273, accuracy=14.0%,                 Valid: loss=2.273, accuracy=14.2%\n",
      "Epoch  1,                 Train: loss=0.528, accuracy=82.6%,                 Valid: loss=0.527, accuracy=82.5%\n",
      "Epoch  2,                 Train: loss=0.480, accuracy=83.9%,                 Valid: loss=0.481, accuracy=83.7%\n",
      "Epoch  3,                 Train: loss=0.467, accuracy=84.3%,                 Valid: loss=0.467, accuracy=84.1%\n",
      "Epoch  4,                 Train: loss=0.446, accuracy=85.0%,                 Valid: loss=0.446, accuracy=85.0%\n",
      "Epoch  5,                 Train: loss=0.438, accuracy=85.1%,                 Valid: loss=0.442, accuracy=84.8%\n",
      "validation accuracy = 85.017\n",
      "------------------------------------------------------------------\n",
      "Training model with a learning rate of 0.001 and a batch size of 20\n",
      "Epoch  0,                 Train: loss=2.307, accuracy=11.0%,                 Valid: loss=2.304, accuracy=11.7%\n",
      "Epoch  1,                 Train: loss=0.526, accuracy=82.8%,                 Valid: loss=0.530, accuracy=82.9%\n",
      "Epoch  2,                 Train: loss=0.481, accuracy=84.0%,                 Valid: loss=0.487, accuracy=84.1%\n",
      "Epoch  3,                 Train: loss=0.468, accuracy=83.9%,                 Valid: loss=0.475, accuracy=84.1%\n",
      "Epoch  4,                 Train: loss=0.454, accuracy=84.3%,                 Valid: loss=0.465, accuracy=84.5%\n",
      "Epoch  5,                 Train: loss=0.437, accuracy=85.1%,                 Valid: loss=0.448, accuracy=85.3%\n",
      "validation accuracy = 85.283\n",
      "------------------------------------------------------------------\n",
      "Training model with a learning rate of 0.001 and a batch size of 200\n",
      "Epoch  0,                 Train: loss=2.292, accuracy=13.9%,                 Valid: loss=2.294, accuracy=13.6%\n",
      "Epoch  1,                 Train: loss=0.678, accuracy=77.1%,                 Valid: loss=0.673, accuracy=77.8%\n",
      "Epoch  2,                 Train: loss=0.506, accuracy=83.0%,                 Valid: loss=0.511, accuracy=82.5%\n",
      "Epoch  3,                 Train: loss=0.543, accuracy=82.5%,                 Valid: loss=0.544, accuracy=82.1%\n",
      "Epoch  4,                 Train: loss=0.478, accuracy=84.0%,                 Valid: loss=0.487, accuracy=83.4%\n",
      "Epoch  5,                 Train: loss=0.453, accuracy=84.5%,                 Valid: loss=0.464, accuracy=84.3%\n",
      "validation accuracy = 84.317\n",
      "------------------------------------------------------------------\n",
      "Training model with a learning rate of 0.001 and a batch size of 1000\n",
      "Epoch  0,                 Train: loss=2.316, accuracy=6.8%,                 Valid: loss=2.316, accuracy=7.1%\n",
      "Epoch  1,                 Train: loss=2.946, accuracy=68.8%,                 Valid: loss=2.966, accuracy=68.5%\n",
      "Epoch  2,                 Train: loss=1.266, accuracy=78.7%,                 Valid: loss=1.309, accuracy=78.0%\n",
      "Epoch  3,                 Train: loss=1.983, accuracy=75.6%,                 Valid: loss=2.040, accuracy=74.9%\n",
      "Epoch  4,                 Train: loss=1.370, accuracy=77.6%,                 Valid: loss=1.395, accuracy=77.4%\n",
      "Epoch  5,                 Train: loss=1.154, accuracy=81.1%,                 Valid: loss=1.202, accuracy=80.8%\n",
      "validation accuracy = 80.800\n"
     ]
    }
   ],
   "source": [
    "# SGD\n",
    "# Montrez les résultats pour différents taux d'apprentissage, e.g. 0.1, 0.01, 0.001, et différentes tailles de mini-batch, e.g. 1, 20, 200, 1000.\n",
    "batch_size_list = [1,20,200,1000]   # Define ranges in a list\n",
    "lr_list = [0.1,0.01,0.001]           # Define ranges in a list\n",
    "\n",
    "with torch.no_grad():\n",
    "  for lr in lr_list:\n",
    "    for batch_size in batch_size_list:\n",
    "      print(\"------------------------------------------------------------------\")\n",
    "      print(\"Training model with a learning rate of {0} and a batch size of {1}\".format(lr, batch_size))\n",
    "      data_loader_train, data_loader_val, data_loader_test = get_fashion_mnist_dataloaders(val_percentage=0.1, batch_size=batch_size)\n",
    "\n",
    "      model = LinearModel(num_features=784, num_classes=10)\n",
    "      _, val_accuracy, _ = train(model,lr=lr, nb_epochs=5, sgd=True, data_loader_train=data_loader_train, data_loader_val=data_loader_val)\n",
    "      print(f\"validation accuracy = {val_accuracy*100:.3f}\")"
   ]
  },
  {
   "cell_type": "markdown",
   "metadata": {
    "id": "AmvtxoLo9pcF"
   },
   "source": [
    "#### **Tableau pour la précision sur l'ensemble de validation**\n",
    "N.B. que les lignes correspondent aux valeurs du taux d'apprentisage et les colonnes correspondent au valeur du batch size. Les valeurs ci-dessous sont donné comme exemples; remplacez-les par les valeurs que vous avez utilisées pour votre recherche d'hyperparamètres.\n",
    "\n",
    "learning rate\\batch_size  | 1      | 20     | 200          | 1000   |\n",
    "-------------------|--------|--------|--------------|--------|\n",
    "**0.1**   | 83.350 | 83.533 | 83.333       | 76.733 | \n",
    "**0.01** | 84.617 | 84.383 | 80.250       | 79.417 | \n",
    "**0.001**  | 85.017 | 85.283 | 84.317 | 80.800 | "
   ]
  },
  {
   "cell_type": "markdown",
   "metadata": {
    "id": "8PvrqlWt9pcG"
   },
   "source": [
    "### SGD: Analyse du meilleur modèle"
   ]
  },
  {
   "cell_type": "code",
   "execution_count": 8,
   "metadata": {
    "id": "uQ8Vc8JM9pcG",
    "ExecuteTime": {
     "end_time": "2025-02-05T19:27:52.032421800Z",
     "start_time": "2025-02-05T19:21:24.443392800Z"
    }
   },
   "outputs": [
    {
     "name": "stdout",
     "output_type": "stream",
     "text": [
      "Epoch  0,                 Train: loss=2.287, accuracy=9.2%,                 Valid: loss=2.289, accuracy=9.4%\n",
      "Epoch  1,                 Train: loss=0.524, accuracy=82.5%,                 Valid: loss=0.531, accuracy=82.8%\n",
      "Epoch  2,                 Train: loss=0.483, accuracy=83.5%,                 Valid: loss=0.497, accuracy=83.1%\n",
      "Epoch  3,                 Train: loss=0.462, accuracy=84.1%,                 Valid: loss=0.480, accuracy=83.5%\n",
      "Epoch  4,                 Train: loss=0.454, accuracy=84.4%,                 Valid: loss=0.469, accuracy=84.0%\n",
      "Epoch  5,                 Train: loss=0.436, accuracy=85.2%,                 Valid: loss=0.454, accuracy=84.5%\n",
      "Best validation accuracy = 84.450\n",
      "Evaluation of the best training model over test set\n",
      "------\n",
      "Loss : 0.474\n",
      "Accuracy : 83.420\n"
     ]
    },
    {
     "data": {
      "text/plain": "<Figure size 1200x600 with 2 Axes>",
      "image/png": "[encoded data removed]"
     },
     "metadata": {},
     "output_type": "display_data"
    }
   ],
   "source": [
    "# SGD\n",
    "# Montrez les résultats pour la meilleure configuration trouvez ci-dessus.\n",
    "batch_size = 1 # TODO: Vous devez modifier cette valeur avec la meilleur que vous avez eu.\n",
    "lr = 0.001         # TODO: Vous devez modifier cette valeur avec la meilleur que vous avez eu.\n",
    "\n",
    "with torch.no_grad():\n",
    "  data_loader_train, data_loader_val, data_loader_test = get_fashion_mnist_dataloaders(val_percentage=0.1, batch_size=batch_size)\n",
    "\n",
    "  model = LinearModel(num_features=784, num_classes=10)\n",
    "  best_model, best_val_accuracy, logger = train(model,lr=lr, nb_epochs=5, sgd=True,\n",
    "                                                data_loader_train=data_loader_train, data_loader_val=data_loader_val)\n",
    "  logger.plot_loss_and_accuracy()\n",
    "  print(f\"Best validation accuracy = {best_val_accuracy*100:.3f}\")\n",
    "\n",
    "  accuracy_test, loss_test = accuracy_and_loss_whole_dataset(data_loader_test, best_model)\n",
    "print(\"Evaluation of the best training model over test set\")\n",
    "print(\"------\")\n",
    "print(f\"Loss : {loss_test:.3f}\")\n",
    "print(f\"Accuracy : {accuracy_test*100.:.3f}\")"
   ]
  },
  {
   "cell_type": "markdown",
   "metadata": {
    "id": "BOZXfA919pcH"
   },
   "source": [
    "# Adam: Recherche d'hyperparamètres\n",
    "\n",
    "Implémentez Adam, répétez les deux étapes précédentes (recherche d'hyperparamètres et analyse du meilleur modèle) cette fois en utilisat Adam, et comparez les performances finales avec votre meilleur modèle SGD."
   ]
  },
  {
   "cell_type": "code",
   "execution_count": 6,
   "metadata": {
    "id": "Ze9D0Zpi9pcI",
    "ExecuteTime": {
     "end_time": "2025-02-06T03:00:10.192203400Z",
     "start_time": "2025-02-06T02:14:08.354388500Z"
    }
   },
   "outputs": [
    {
     "name": "stdout",
     "output_type": "stream",
     "text": [
      "------------------------------------------------------------------\n",
      "Training model with a learning rate of 0.1 and a batch size of 1\n",
      "Epoch  0,                 Train: loss=2.339, accuracy=4.2%,                 Valid: loss=2.338, accuracy=4.1%\n",
      "Epoch  1,                 Train: loss=3.311, accuracy=82.7%,                 Valid: loss=3.432, accuracy=82.2%\n",
      "Epoch  2,                 Train: loss=4.286, accuracy=77.6%,                 Valid: loss=4.430, accuracy=76.9%\n",
      "Epoch  3,                 Train: loss=4.533, accuracy=76.7%,                 Valid: loss=4.716, accuracy=76.0%\n",
      "Epoch  4,                 Train: loss=3.532, accuracy=81.6%,                 Valid: loss=3.891, accuracy=80.1%\n",
      "Epoch  5,                 Train: loss=3.797, accuracy=80.2%,                 Valid: loss=3.975, accuracy=79.5%\n",
      "validation accuracy = 82.183\n",
      "------------------------------------------------------------------\n",
      "Training model with a learning rate of 0.1 and a batch size of 20\n",
      "Epoch  0,                 Train: loss=2.315, accuracy=4.0%,                 Valid: loss=2.314, accuracy=4.4%\n",
      "Epoch  1,                 Train: loss=3.466, accuracy=76.7%,                 Valid: loss=3.825, accuracy=75.0%\n",
      "Epoch  2,                 Train: loss=2.652, accuracy=80.9%,                 Valid: loss=2.827, accuracy=80.1%\n",
      "Epoch  3,                 Train: loss=2.557, accuracy=82.8%,                 Valid: loss=2.586, accuracy=82.7%\n",
      "Epoch  4,                 Train: loss=3.281, accuracy=79.1%,                 Valid: loss=3.552, accuracy=78.2%\n",
      "Epoch  5,                 Train: loss=2.134, accuracy=84.2%,                 Valid: loss=2.370, accuracy=83.2%\n",
      "validation accuracy = 83.233\n",
      "------------------------------------------------------------------\n",
      "Training model with a learning rate of 0.1 and a batch size of 200\n",
      "Epoch  0,                 Train: loss=2.311, accuracy=10.1%,                 Valid: loss=2.309, accuracy=9.8%\n",
      "Epoch  1,                 Train: loss=1.397, accuracy=73.8%,                 Valid: loss=1.442, accuracy=74.1%\n",
      "Epoch  2,                 Train: loss=0.957, accuracy=80.8%,                 Valid: loss=0.997, accuracy=80.0%\n",
      "Epoch  3,                 Train: loss=1.069, accuracy=79.0%,                 Valid: loss=1.173, accuracy=79.6%\n",
      "Epoch  4,                 Train: loss=0.949, accuracy=80.5%,                 Valid: loss=1.048, accuracy=79.7%\n",
      "Epoch  5,                 Train: loss=0.983, accuracy=81.6%,                 Valid: loss=1.108, accuracy=80.8%\n",
      "validation accuracy = 80.783\n",
      "------------------------------------------------------------------\n",
      "Training model with a learning rate of 0.1 and a batch size of 1000\n",
      "Epoch  0,                 Train: loss=2.302, accuracy=14.3%,                 Valid: loss=2.307, accuracy=13.8%\n",
      "Epoch  1,                 Train: loss=0.884, accuracy=81.5%,                 Valid: loss=0.947, accuracy=80.7%\n",
      "Epoch  2,                 Train: loss=0.588, accuracy=83.8%,                 Valid: loss=0.652, accuracy=83.1%\n",
      "Epoch  3,                 Train: loss=0.450, accuracy=85.7%,                 Valid: loss=0.517, accuracy=84.6%\n",
      "Epoch  4,                 Train: loss=0.496, accuracy=85.5%,                 Valid: loss=0.568, accuracy=84.8%\n",
      "Epoch  5,                 Train: loss=0.491, accuracy=83.4%,                 Valid: loss=0.545, accuracy=82.2%\n",
      "validation accuracy = 84.833\n",
      "------------------------------------------------------------------\n",
      "Training model with a learning rate of 0.01 and a batch size of 1\n",
      "Epoch  0,                 Train: loss=2.357, accuracy=5.8%,                 Valid: loss=2.357, accuracy=5.9%\n",
      "Epoch  1,                 Train: loss=3.649, accuracy=66.1%,                 Valid: loss=3.789, accuracy=65.6%\n",
      "Epoch  2,                 Train: loss=2.567, accuracy=76.3%,                 Valid: loss=2.698, accuracy=75.7%\n",
      "Epoch  3,                 Train: loss=1.737, accuracy=83.1%,                 Valid: loss=1.909, accuracy=82.3%\n",
      "Epoch  4,                 Train: loss=1.490, accuracy=84.0%,                 Valid: loss=1.706, accuracy=82.9%\n",
      "Epoch  5,                 Train: loss=1.801, accuracy=82.2%,                 Valid: loss=2.045, accuracy=80.5%\n",
      "validation accuracy = 82.900\n",
      "------------------------------------------------------------------\n",
      "Training model with a learning rate of 0.01 and a batch size of 20\n",
      "Epoch  0,                 Train: loss=2.328, accuracy=4.8%,                 Valid: loss=2.327, accuracy=4.3%\n",
      "Epoch  1,                 Train: loss=0.539, accuracy=83.5%,                 Valid: loss=0.560, accuracy=83.4%\n",
      "Epoch  2,                 Train: loss=0.479, accuracy=85.5%,                 Valid: loss=0.539, accuracy=84.4%\n",
      "Epoch  3,                 Train: loss=0.560, accuracy=84.3%,                 Valid: loss=0.636, accuracy=83.2%\n",
      "Epoch  4,                 Train: loss=0.528, accuracy=84.8%,                 Valid: loss=0.613, accuracy=83.5%\n",
      "Epoch  5,                 Train: loss=0.852, accuracy=77.9%,                 Valid: loss=0.951, accuracy=76.3%\n",
      "validation accuracy = 84.383\n",
      "------------------------------------------------------------------\n",
      "Training model with a learning rate of 0.01 and a batch size of 200\n",
      "Epoch  0,                 Train: loss=2.319, accuracy=8.2%,                 Valid: loss=2.319, accuracy=7.9%\n",
      "Epoch  1,                 Train: loss=0.471, accuracy=83.9%,                 Valid: loss=0.476, accuracy=83.3%\n",
      "Epoch  2,                 Train: loss=0.424, accuracy=85.5%,                 Valid: loss=0.439, accuracy=84.8%\n",
      "Epoch  3,                 Train: loss=0.499, accuracy=82.3%,                 Valid: loss=0.521, accuracy=81.8%\n",
      "Epoch  4,                 Train: loss=0.393, accuracy=86.3%,                 Valid: loss=0.420, accuracy=85.7%\n",
      "Epoch  5,                 Train: loss=0.423, accuracy=84.8%,                 Valid: loss=0.454, accuracy=84.1%\n",
      "validation accuracy = 85.717\n",
      "------------------------------------------------------------------\n",
      "Training model with a learning rate of 0.01 and a batch size of 1000\n",
      "Epoch  0,                 Train: loss=2.303, accuracy=4.9%,                 Valid: loss=2.306, accuracy=4.8%\n",
      "Epoch  1,                 Train: loss=0.541, accuracy=81.6%,                 Valid: loss=0.549, accuracy=81.3%\n",
      "Epoch  2,                 Train: loss=0.477, accuracy=83.9%,                 Valid: loss=0.484, accuracy=83.9%\n",
      "Epoch  3,                 Train: loss=0.444, accuracy=85.0%,                 Valid: loss=0.457, accuracy=84.5%\n",
      "Epoch  4,                 Train: loss=0.430, accuracy=85.2%,                 Valid: loss=0.443, accuracy=85.2%\n",
      "Epoch  5,                 Train: loss=0.421, accuracy=85.6%,                 Valid: loss=0.441, accuracy=85.2%\n",
      "validation accuracy = 85.233\n",
      "------------------------------------------------------------------\n",
      "Training model with a learning rate of 0.001 and a batch size of 1\n",
      "Epoch  0,                 Train: loss=2.300, accuracy=12.6%,                 Valid: loss=2.297, accuracy=13.5%\n",
      "Epoch  1,                 Train: loss=0.457, accuracy=84.8%,                 Valid: loss=0.472, accuracy=84.4%\n",
      "Epoch  2,                 Train: loss=0.500, accuracy=83.3%,                 Valid: loss=0.534, accuracy=82.3%\n",
      "Epoch  3,                 Train: loss=0.440, accuracy=85.7%,                 Valid: loss=0.466, accuracy=85.2%\n",
      "Epoch  4,                 Train: loss=0.455, accuracy=84.7%,                 Valid: loss=0.496, accuracy=84.0%\n",
      "Epoch  5,                 Train: loss=0.456, accuracy=85.0%,                 Valid: loss=0.512, accuracy=83.7%\n",
      "validation accuracy = 85.200\n",
      "------------------------------------------------------------------\n",
      "Training model with a learning rate of 0.001 and a batch size of 20\n",
      "Epoch  0,                 Train: loss=2.298, accuracy=14.6%,                 Valid: loss=2.296, accuracy=14.8%\n",
      "Epoch  1,                 Train: loss=0.469, accuracy=84.3%,                 Valid: loss=0.459, accuracy=85.1%\n",
      "Epoch  2,                 Train: loss=0.426, accuracy=85.3%,                 Valid: loss=0.420, accuracy=85.8%\n",
      "Epoch  3,                 Train: loss=0.424, accuracy=85.2%,                 Valid: loss=0.420, accuracy=85.9%\n",
      "Epoch  4,                 Train: loss=0.410, accuracy=85.8%,                 Valid: loss=0.414, accuracy=86.1%\n",
      "Epoch  5,                 Train: loss=0.393, accuracy=86.4%,                 Valid: loss=0.397, accuracy=86.7%\n",
      "validation accuracy = 86.700\n",
      "------------------------------------------------------------------\n",
      "Training model with a learning rate of 0.001 and a batch size of 200\n",
      "Epoch  0,                 Train: loss=2.284, accuracy=12.6%,                 Valid: loss=2.285, accuracy=12.2%\n",
      "Epoch  1,                 Train: loss=0.594, accuracy=80.8%,                 Valid: loss=0.605, accuracy=80.6%\n",
      "Epoch  2,                 Train: loss=0.517, accuracy=83.0%,                 Valid: loss=0.532, accuracy=82.4%\n",
      "Epoch  3,                 Train: loss=0.482, accuracy=83.9%,                 Valid: loss=0.498, accuracy=83.2%\n",
      "Epoch  4,                 Train: loss=0.464, accuracy=84.4%,                 Valid: loss=0.481, accuracy=83.8%\n",
      "Epoch  5,                 Train: loss=0.444, accuracy=85.0%,                 Valid: loss=0.464, accuracy=84.2%\n",
      "validation accuracy = 84.200\n",
      "------------------------------------------------------------------\n",
      "Training model with a learning rate of 0.001 and a batch size of 1000\n",
      "Epoch  0,                 Train: loss=2.298, accuracy=15.7%,                 Valid: loss=2.301, accuracy=15.4%\n",
      "Epoch  1,                 Train: loss=0.842, accuracy=72.9%,                 Valid: loss=0.849, accuracy=72.3%\n",
      "Epoch  2,                 Train: loss=0.693, accuracy=77.8%,                 Valid: loss=0.700, accuracy=77.0%\n",
      "Epoch  3,                 Train: loss=0.625, accuracy=80.0%,                 Valid: loss=0.632, accuracy=79.6%\n",
      "Epoch  4,                 Train: loss=0.586, accuracy=80.9%,                 Valid: loss=0.593, accuracy=80.3%\n",
      "Epoch  5,                 Train: loss=0.555, accuracy=81.9%,                 Valid: loss=0.562, accuracy=81.5%\n",
      "validation accuracy = 81.483\n"
     ]
    }
   ],
   "source": [
    "# ADAM\n",
    "# Montrez les résultats pour différents taux d'apprentissage, e.g. 0.1, 0.01, 0.001, et différentes tailles de mini-batch, e.g. 1, 20, 200, 1000.\n",
    "batch_size_list = [1 , 20 , 200 , 1000]   # Define ranges in a list\n",
    "lr_list = [0.1 , 0.01 , 0.001]           # Define ranges in a list\n",
    "\n",
    "with torch.no_grad():\n",
    "  for lr in lr_list:\n",
    "    for batch_size in batch_size_list:\n",
    "      print(\"------------------------------------------------------------------\")\n",
    "      print(\"Training model with a learning rate of {0} and a batch size of {1}\".format(lr, batch_size))\n",
    "      data_loader_train, data_loader_val, data_loader_test = get_fashion_mnist_dataloaders(val_percentage=0.1, batch_size=batch_size)\n",
    "\n",
    "      model = LinearModel(num_features=784, num_classes=10)\n",
    "      _, val_accuracy, _ = train(model,lr=lr, nb_epochs=5, sgd=False, data_loader_train=data_loader_train, data_loader_val=data_loader_val)\n",
    "      print(f\"validation accuracy = {val_accuracy*100:.3f}\")"
   ]
  },
  {
   "cell_type": "markdown",
   "metadata": {
    "id": "Cr9_MzpX_CvO"
   },
   "source": [
    "#### **Tableau pour la précision sur l'ensemble de validation**\n",
    "N.B. que les lignes correspondent aux valeurs du taux d'apprentisage et les colonnes correspondent au valeur du batch size. Les valeurs ci-dessous sont donné comme exemples; remplacez-les par les valeurs que vous avez utilisées pour votre recherche d'hyperparamètres.\n",
    "\n",
    "learning rate\\batch_size  | 1      | 20     | 200    | 1000   |  \n",
    "-------------------|--------|--------|--------|--------|\n",
    "**0.1**   | 82.017 | 83.283 | 83.100 | 81.467 | \n",
    "**0.01** | 81.000 | 83.100 | 85.683 | 85.883 |\n",
    "**0.001**  | 84.683 | 85.700 | 83.900 | 81.800 | "
   ]
  },
  {
   "cell_type": "markdown",
   "metadata": {
    "id": "2Me7IOblUrYw"
   },
   "source": [
    "### Adam: Analyse du meilleur modèle"
   ]
  },
  {
   "cell_type": "code",
   "execution_count": 17,
   "metadata": {
    "id": "Ndf_GP6XPV-U",
    "ExecuteTime": {
     "end_time": "2025-02-06T02:12:58.007088600Z",
     "start_time": "2025-02-06T02:12:54.619310700Z"
    }
   },
   "outputs": [
    {
     "ename": "KeyboardInterrupt",
     "evalue": "",
     "output_type": "error",
     "traceback": [
      "\u001B[1;31m---------------------------------------------------------------------------\u001B[0m",
      "\u001B[1;31mKeyboardInterrupt\u001B[0m                         Traceback (most recent call last)",
      "Cell \u001B[1;32mIn[17], line 10\u001B[0m\n\u001B[0;32m      7\u001B[0m data_loader_train, data_loader_val, data_loader_test \u001B[38;5;241m=\u001B[39m get_fashion_mnist_dataloaders(val_percentage\u001B[38;5;241m=\u001B[39m\u001B[38;5;241m0.1\u001B[39m, batch_size\u001B[38;5;241m=\u001B[39mbatch_size)\n\u001B[0;32m      9\u001B[0m model \u001B[38;5;241m=\u001B[39m LinearModel(num_features\u001B[38;5;241m=\u001B[39m\u001B[38;5;241m784\u001B[39m, num_classes\u001B[38;5;241m=\u001B[39m\u001B[38;5;241m10\u001B[39m)\n\u001B[1;32m---> 10\u001B[0m best_model, best_val_accuracy, logger \u001B[38;5;241m=\u001B[39m train(model,lr\u001B[38;5;241m=\u001B[39mlr, nb_epochs\u001B[38;5;241m=\u001B[39m\u001B[38;5;241m5\u001B[39m, sgd\u001B[38;5;241m=\u001B[39m\u001B[38;5;28;01mFalse\u001B[39;00m,\n\u001B[0;32m     11\u001B[0m                                               data_loader_train\u001B[38;5;241m=\u001B[39mdata_loader_train, data_loader_val\u001B[38;5;241m=\u001B[39mdata_loader_val)\n\u001B[0;32m     12\u001B[0m logger\u001B[38;5;241m.\u001B[39mplot_loss_and_accuracy()\n\u001B[0;32m     13\u001B[0m \u001B[38;5;28mprint\u001B[39m(\u001B[38;5;124mf\u001B[39m\u001B[38;5;124m\"\u001B[39m\u001B[38;5;124mBest validation accuracy = \u001B[39m\u001B[38;5;132;01m{\u001B[39;00mbest_val_accuracy\u001B[38;5;241m*\u001B[39m\u001B[38;5;241m100\u001B[39m\u001B[38;5;132;01m:\u001B[39;00m\u001B[38;5;124m.3f\u001B[39m\u001B[38;5;132;01m}\u001B[39;00m\u001B[38;5;124m\"\u001B[39m)\n",
      "Cell \u001B[1;32mIn[13], line 58\u001B[0m, in \u001B[0;36mtrain\u001B[1;34m(model, lr, nb_epochs, sgd, data_loader_train, data_loader_val)\u001B[0m\n\u001B[0;32m     55\u001B[0m       \u001B[38;5;28;01melse\u001B[39;00m:\n\u001B[0;32m     56\u001B[0m         model\u001B[38;5;241m.\u001B[39madam_update(lr, grads)\n\u001B[1;32m---> 58\u001B[0m accuracy_train, loss_train \u001B[38;5;241m=\u001B[39m accuracy_and_loss_whole_dataset(data_loader_train, model)\n\u001B[0;32m     59\u001B[0m accuracy_val, loss_val \u001B[38;5;241m=\u001B[39m accuracy_and_loss_whole_dataset(data_loader_val, model)\n\u001B[0;32m     61\u001B[0m \u001B[38;5;28;01mif\u001B[39;00m accuracy_val \u001B[38;5;241m>\u001B[39m best_val_accuracy:\n",
      "Cell \u001B[1;32mIn[4], line 18\u001B[0m, in \u001B[0;36maccuracy_and_loss_whole_dataset\u001B[1;34m(data_loader, model)\u001B[0m\n\u001B[0;32m     15\u001B[0m loss     \u001B[38;5;241m=\u001B[39m \u001B[38;5;241m0.\u001B[39m\n\u001B[0;32m     16\u001B[0m n_accurate_preds  \u001B[38;5;241m=\u001B[39m \u001B[38;5;241m0.\u001B[39m\n\u001B[1;32m---> 18\u001B[0m \u001B[38;5;28;01mfor\u001B[39;00m x, y \u001B[38;5;129;01min\u001B[39;00m data_loader:\n\u001B[0;32m     19\u001B[0m     x, y \u001B[38;5;241m=\u001B[39m reshape_input(x, y)\n\u001B[0;32m     20\u001B[0m     y_pred                \u001B[38;5;241m=\u001B[39m model\u001B[38;5;241m.\u001B[39mforward(x)\n",
      "File \u001B[1;32m~\\anaconda3\\envs\\ml\\Lib\\site-packages\\torch\\utils\\data\\dataloader.py:440\u001B[0m, in \u001B[0;36mDataLoader.__iter__\u001B[1;34m(self)\u001B[0m\n\u001B[0;32m    438\u001B[0m     \u001B[38;5;28;01mreturn\u001B[39;00m \u001B[38;5;28mself\u001B[39m\u001B[38;5;241m.\u001B[39m_iterator\n\u001B[0;32m    439\u001B[0m \u001B[38;5;28;01melse\u001B[39;00m:\n\u001B[1;32m--> 440\u001B[0m     \u001B[38;5;28;01mreturn\u001B[39;00m \u001B[38;5;28mself\u001B[39m\u001B[38;5;241m.\u001B[39m_get_iterator()\n",
      "File \u001B[1;32m~\\anaconda3\\envs\\ml\\Lib\\site-packages\\torch\\utils\\data\\dataloader.py:388\u001B[0m, in \u001B[0;36mDataLoader._get_iterator\u001B[1;34m(self)\u001B[0m\n\u001B[0;32m    386\u001B[0m \u001B[38;5;28;01melse\u001B[39;00m:\n\u001B[0;32m    387\u001B[0m     \u001B[38;5;28mself\u001B[39m\u001B[38;5;241m.\u001B[39mcheck_worker_number_rationality()\n\u001B[1;32m--> 388\u001B[0m     \u001B[38;5;28;01mreturn\u001B[39;00m _MultiProcessingDataLoaderIter(\u001B[38;5;28mself\u001B[39m)\n",
      "File \u001B[1;32m~\\anaconda3\\envs\\ml\\Lib\\site-packages\\torch\\utils\\data\\dataloader.py:1038\u001B[0m, in \u001B[0;36m_MultiProcessingDataLoaderIter.__init__\u001B[1;34m(self, loader)\u001B[0m\n\u001B[0;32m   1031\u001B[0m w\u001B[38;5;241m.\u001B[39mdaemon \u001B[38;5;241m=\u001B[39m \u001B[38;5;28;01mTrue\u001B[39;00m\n\u001B[0;32m   1032\u001B[0m \u001B[38;5;66;03m# NB: Process.start() actually take some time as it needs to\u001B[39;00m\n\u001B[0;32m   1033\u001B[0m \u001B[38;5;66;03m#     start a process and pass the arguments over via a pipe.\u001B[39;00m\n\u001B[0;32m   1034\u001B[0m \u001B[38;5;66;03m#     Therefore, we only add a worker to self._workers list after\u001B[39;00m\n\u001B[0;32m   1035\u001B[0m \u001B[38;5;66;03m#     it started, so that we do not call .join() if program dies\u001B[39;00m\n\u001B[0;32m   1036\u001B[0m \u001B[38;5;66;03m#     before it starts, and __del__ tries to join but will get:\u001B[39;00m\n\u001B[0;32m   1037\u001B[0m \u001B[38;5;66;03m#     AssertionError: can only join a started process.\u001B[39;00m\n\u001B[1;32m-> 1038\u001B[0m w\u001B[38;5;241m.\u001B[39mstart()\n\u001B[0;32m   1039\u001B[0m \u001B[38;5;28mself\u001B[39m\u001B[38;5;241m.\u001B[39m_index_queues\u001B[38;5;241m.\u001B[39mappend(index_queue)\n\u001B[0;32m   1040\u001B[0m \u001B[38;5;28mself\u001B[39m\u001B[38;5;241m.\u001B[39m_workers\u001B[38;5;241m.\u001B[39mappend(w)\n",
      "File \u001B[1;32m~\\anaconda3\\envs\\ml\\Lib\\multiprocessing\\process.py:121\u001B[0m, in \u001B[0;36mBaseProcess.start\u001B[1;34m(self)\u001B[0m\n\u001B[0;32m    118\u001B[0m \u001B[38;5;28;01massert\u001B[39;00m \u001B[38;5;129;01mnot\u001B[39;00m _current_process\u001B[38;5;241m.\u001B[39m_config\u001B[38;5;241m.\u001B[39mget(\u001B[38;5;124m'\u001B[39m\u001B[38;5;124mdaemon\u001B[39m\u001B[38;5;124m'\u001B[39m), \\\n\u001B[0;32m    119\u001B[0m        \u001B[38;5;124m'\u001B[39m\u001B[38;5;124mdaemonic processes are not allowed to have children\u001B[39m\u001B[38;5;124m'\u001B[39m\n\u001B[0;32m    120\u001B[0m _cleanup()\n\u001B[1;32m--> 121\u001B[0m \u001B[38;5;28mself\u001B[39m\u001B[38;5;241m.\u001B[39m_popen \u001B[38;5;241m=\u001B[39m \u001B[38;5;28mself\u001B[39m\u001B[38;5;241m.\u001B[39m_Popen(\u001B[38;5;28mself\u001B[39m)\n\u001B[0;32m    122\u001B[0m \u001B[38;5;28mself\u001B[39m\u001B[38;5;241m.\u001B[39m_sentinel \u001B[38;5;241m=\u001B[39m \u001B[38;5;28mself\u001B[39m\u001B[38;5;241m.\u001B[39m_popen\u001B[38;5;241m.\u001B[39msentinel\n\u001B[0;32m    123\u001B[0m \u001B[38;5;66;03m# Avoid a refcycle if the target function holds an indirect\u001B[39;00m\n\u001B[0;32m    124\u001B[0m \u001B[38;5;66;03m# reference to the process object (see bpo-30775)\u001B[39;00m\n",
      "File \u001B[1;32m~\\anaconda3\\envs\\ml\\Lib\\multiprocessing\\context.py:224\u001B[0m, in \u001B[0;36mProcess._Popen\u001B[1;34m(process_obj)\u001B[0m\n\u001B[0;32m    222\u001B[0m \u001B[38;5;129m@staticmethod\u001B[39m\n\u001B[0;32m    223\u001B[0m \u001B[38;5;28;01mdef\u001B[39;00m \u001B[38;5;21m_Popen\u001B[39m(process_obj):\n\u001B[1;32m--> 224\u001B[0m     \u001B[38;5;28;01mreturn\u001B[39;00m _default_context\u001B[38;5;241m.\u001B[39mget_context()\u001B[38;5;241m.\u001B[39mProcess\u001B[38;5;241m.\u001B[39m_Popen(process_obj)\n",
      "File \u001B[1;32m~\\anaconda3\\envs\\ml\\Lib\\multiprocessing\\context.py:336\u001B[0m, in \u001B[0;36mSpawnProcess._Popen\u001B[1;34m(process_obj)\u001B[0m\n\u001B[0;32m    333\u001B[0m \u001B[38;5;129m@staticmethod\u001B[39m\n\u001B[0;32m    334\u001B[0m \u001B[38;5;28;01mdef\u001B[39;00m \u001B[38;5;21m_Popen\u001B[39m(process_obj):\n\u001B[0;32m    335\u001B[0m     \u001B[38;5;28;01mfrom\u001B[39;00m \u001B[38;5;21;01m.\u001B[39;00m\u001B[38;5;21;01mpopen_spawn_win32\u001B[39;00m \u001B[38;5;28;01mimport\u001B[39;00m Popen\n\u001B[1;32m--> 336\u001B[0m     \u001B[38;5;28;01mreturn\u001B[39;00m Popen(process_obj)\n",
      "File \u001B[1;32m~\\anaconda3\\envs\\ml\\Lib\\multiprocessing\\popen_spawn_win32.py:95\u001B[0m, in \u001B[0;36mPopen.__init__\u001B[1;34m(self, process_obj)\u001B[0m\n\u001B[0;32m     93\u001B[0m \u001B[38;5;28;01mtry\u001B[39;00m:\n\u001B[0;32m     94\u001B[0m     reduction\u001B[38;5;241m.\u001B[39mdump(prep_data, to_child)\n\u001B[1;32m---> 95\u001B[0m     reduction\u001B[38;5;241m.\u001B[39mdump(process_obj, to_child)\n\u001B[0;32m     96\u001B[0m \u001B[38;5;28;01mfinally\u001B[39;00m:\n\u001B[0;32m     97\u001B[0m     set_spawning_popen(\u001B[38;5;28;01mNone\u001B[39;00m)\n",
      "File \u001B[1;32m~\\anaconda3\\envs\\ml\\Lib\\multiprocessing\\reduction.py:60\u001B[0m, in \u001B[0;36mdump\u001B[1;34m(obj, file, protocol)\u001B[0m\n\u001B[0;32m     58\u001B[0m \u001B[38;5;28;01mdef\u001B[39;00m \u001B[38;5;21mdump\u001B[39m(obj, file, protocol\u001B[38;5;241m=\u001B[39m\u001B[38;5;28;01mNone\u001B[39;00m):\n\u001B[0;32m     59\u001B[0m \u001B[38;5;250m    \u001B[39m\u001B[38;5;124;03m'''Replacement for pickle.dump() using ForkingPickler.'''\u001B[39;00m\n\u001B[1;32m---> 60\u001B[0m     ForkingPickler(file, protocol)\u001B[38;5;241m.\u001B[39mdump(obj)\n",
      "\u001B[1;31mKeyboardInterrupt\u001B[0m: "
     ]
    }
   ],
   "source": [
    "# ADAM\n",
    "# Montrez les résultats pour la meilleure configuration trouvez ci-dessus.\n",
    "batch_size = 1000 # TODO: Vous devez modifier cette valeur avec la meilleur que vous avez eu.\n",
    "lr = 0.01         # TODO: Vous devez modifier cette valeur avec la meilleur que vous avez eu.\n",
    "\n",
    "with torch.no_grad():\n",
    "  data_loader_train, data_loader_val, data_loader_test = get_fashion_mnist_dataloaders(val_percentage=0.1, batch_size=batch_size)\n",
    "\n",
    "  model = LinearModel(num_features=784, num_classes=10)\n",
    "  best_model, best_val_accuracy, logger = train(model,lr=lr, nb_epochs=5, sgd=False,\n",
    "                                                data_loader_train=data_loader_train, data_loader_val=data_loader_val)\n",
    "  logger.plot_loss_and_accuracy()\n",
    "  print(f\"Best validation accuracy = {best_val_accuracy*100:.3f}\")\n",
    "\n",
    "  accuracy_test, loss_test = accuracy_and_loss_whole_dataset(data_loader_test, best_model)\n",
    "print(\"Evaluation of the best training model over test set\")\n",
    "print(\"------\")\n",
    "print(f\"Loss : {loss_test:.3f}\")\n",
    "print(f\"Accuracy : {accuracy_test*100.:.3f}\")"
   ]
  },
  {
   "cell_type": "markdown",
   "metadata": {
    "id": "6LRkxtUD_RVd"
   },
   "source": [
    "### Analyse des Résultats"
   ]
  },
  {
   "cell_type": "markdown",
   "metadata": {
    "id": "8NIRJe-8_fbP"
   },
   "source": [
    "Les résultats montrent qu'ADAM est plus stable et performant que SGD, surtout avec des tailles de lots plus grandes. En particulier, pour un taux d'apprentissage de 0.01, ADAM surpasse nettement SGD, atteignant une meilleure précision à partir de 200 et 1000 échantillons. En revanche, SGD présente des performances fluctuantes, avec une bonne précision pour de petites tailles de lots mais une chute importante avec des lots plus grands, surtout pour les taux d'apprentissage faibles (0.001). Ainsi, ADAM semble offrir une meilleure capacité de généralisation et de convergence, surtout avec un taux d'apprentissage modéré."
   ]
  },
  {
   "cell_type": "markdown",
   "metadata": {
    "id": "IficnxEMMcNo"
   },
   "source": [
    "# Partie 3 (20 points)\n",
    "\n",
    "Pour cette partie, vous pouvez travailler en groupes de 2, mais il faut écrire sa propre dérivation et soumettre son propre rapport. Si vous travaillez avec un partenaire, il faut indiquer leur nom dans votre rapport."
   ]
  },
  {
   "cell_type": "markdown",
   "metadata": {
    "id": "Zmb_putke8pl"
   },
   "source": [
    "### Problème"
   ]
  },
  {
   "cell_type": "markdown",
   "metadata": {
    "id": "CRioLmIDMcP8"
   },
   "source": [
    "![picture](https://drive.google.com/uc?id=17_N7pIrf5pypQKiUh5cM7SX6raZUBcJC)\n",
    "\n",
    "Considérons maintenant un réseau de neurones avec une couche d'entrée avec $D=784$ unités, $L$ couches cachées, chacune avec 300 unités et un vecteur de sortie $\\mathbf{y}$ de dimension $K$. Vous avez $i = 1, .., N$ exemples dans un ensemble d'apprentissage, où chaque ${\\bf x}_i \\in \\mathbb{R}^{784}$ est un vecteur de caractéristiques (features). $\\mathbf{y}$ est un vecteur du type *one-hot* -- un vecteur de zéros avec un seul 1 pour indiquer que la classe $C=k$ dans la dimension $k$. Par exemple, le vecteur $\\mathbf{y}=[0, 1, 0, \\cdots, 0]^T$ représente la deuxième classe. La fonction de perte est donnée par\n",
    "\\begin{equation}\n",
    "\\mathscr{L} = -\\sum_{i=1}^{N}\\sum_{k=1}^{K}y_{k,i}\\log (f_k( {\\bf x}_i )  )\n",
    "\\end{equation}\n",
    "\n",
    "La fonction d'activation de la couche finale a la forme  ${\\bf f} = [f_1, ..., f_K]$ donné par la fonction d'activation softmax:\n",
    "\\begin{equation}\n",
    "f_k( {\\bf a}^{(L+1)}({\\bf x}_i) ) = \\frac{\\exp(a_k^{(L+1)})}{\\sum_{c=1}^{K}\\exp(a_c^{(L+1)})}, \n",
    "\n",
    "\\end{equation}\n",
    "\n",
    "et les couches cachées utilisent une fonction d'activation de type ReLU:\n",
    "\\begin{equation}\n",
    "  {\\bf h}^{(l)}({\\bf a}^{(l)}({\\bf x}_i)) = \\text{ReLU}({\\bf a}^{(l)}({\\bf x}_i) = \\max\\Big(0, \\, \\, {\\bf a}^{(l)}({\\bf x}_i)\\Big)\n",
    "\\end{equation}\n",
    "\n",
    "où ${\\bf a}^{(l)}$ est le vecteur résultant du calcul de la préactivation habituelle ${\\bf a}^{(l)}={\\bf W}^{(l)}{\\bf h}^{(l-1)} + {\\bf b}^{(l)}$, qui pourrait être simplifiée à ${\\boldsymbol \\theta}^{(l)}\\tilde{\\bf h}^{(l-1)}$ en utilisant l'astuce de définir $\\tilde{\\bf h}$ comme ${\\bf h}$ avec un 1 concaténé à la fin du vecteur.\n",
    "\n"
   ]
  },
  {
   "cell_type": "markdown",
   "metadata": {
    "id": "PzMpz3Zse0t9"
   },
   "source": [
    "### Questions"
   ]
  },
  {
   "cell_type": "markdown",
   "metadata": {
    "id": "wK8gnygxMcSh"
   },
   "source": [
    "* a) (10 points) Donnez le pseudocode incluant des *calculs matriciels—vectoriels* détaillés pour l'algorithme de rétropropagation pour calculer le gradient pour les paramètres de chaque couche **étant donné un exemple d'entraînement**."
   ]
  },
  {
   "cell_type": "markdown",
   "metadata": {
    "id": "Y431_w4gMcX2"
   },
   "source": [
    "* b) (15 points)\n",
    "Implémentez l'optimisation basée sur le gradient de ce réseau en Pytorch.\n",
    "Utilisez le code squelette ci-dessous comme point de départ et implémentez les mathématiques de l'algorithme de rétropropagation que vous avez décrit à la question précédente. Comparez vos gradients et votre optimisation avec le même modèle optimisé avec Autograd. Lequel est le plus rapide ? Proposez quelques expériences. Utilisez encore l'ensemble de données de Fashion MNIST (voir Partie 2). **Comparez différents modèles ayant différentes largeurs (nombre d'unités) et profondeurs (nombre de couches)**. Ici encore, n'utilisez l'ensemble de test que pour votre expérience finale lorsque vous pensez avoir obtenu votre meilleur modèle.\n",
    "\n",
    "\n",
    "**IMPORTANT**\n",
    "\n",
    "L'objectif du TP est de vous faire implémenter la rétropropagation à la main. L'objectif est d'implémenter un modèle de classification logistique ainsi que son entainement en utilisant uniquement des opérations matricielles de base fournies par PyTorch e.g. torch.sum(), torch.matmul(), etc. **Une fois que vous avez implémenté votre modèle, vous devez le comparer avec un modèle construit en utilisant les capacités de pytorch qui permettent une différenciation automatique. Autrement dit, pour la deuxième implémentation, vous pouvez utiliser torch.nn, torch.autograd ou à la méthode .backward().** Vous pouvez utiliser l’implémentation de votre choix pour explorer différentes architectures de modèles."
   ]
  },
  {
   "cell_type": "markdown",
   "metadata": {
    "id": "F1mpuG2cwER-"
   },
   "source": []
  },
  {
   "cell_type": "markdown",
   "source": [
    "# Modèle de Réseau de Neurones Général à n Couches\n",
    "\n",
    "Soit les transformations suivantes dans un réseau de neurones avec \\( n \\) couches cachées :\n",
    "\n",
    "## 1. Propagation Avant\n",
    "\n",
    "### **Entrée** :\n",
    "$$\n",
    "\\mathbf{x} = \\text{input}\n",
    "$$\n",
    "\n",
    "### **Transformation Linéaire et Activation à Chaque Couche**\n",
    "\n",
    "Pour chaque couche cachée l allant de 1 à n : \n",
    "\n",
    "1. **Préactivation** :\n",
    "     $$\n",
    "     \\mathbf{a}^{(1)} = \\boldsymbol{\\theta}^{(1)} \\mathbf{x}\n",
    "     $$\n",
    "   - Pour $\\( l > 1 \\)$ :\n",
    "     $$\n",
    "     \\mathbf{a}^{(l)} = \\boldsymbol{\\theta}^{(l)} \\tilde{\\mathbf{h}}^{(l-1)}\n",
    "     $$\n",
    "2. **Activation ReLU** :\n",
    "   $$\n",
    "   \\mathbf{h}^{(l)} = \\text{ReLU}'(\\mathbf{a}^{(l)})\n",
    "   $$\n",
    "\n",
    "où :\n",
    "\n",
    " $\\tilde{\\mathbf{h}}^{(l-1)}$ est le vecteur $\\mathbf{h}^{(l-1)}$ auquel on ajoute une composante égale à 1 à la fin pour inclure le biais.\n",
    "\n",
    "\n",
    "### **Dernière Couche (Sortie)**\n",
    "\n",
    "1. **Transformation linéaire finale** :\n",
    "   $$\n",
    "   \\mathbf{a}^{(n+1)} = \\boldsymbol{\\theta}^{(n+1)} \\tilde{\\mathbf{h}}^{(n)}\n",
    "\n",
    "   $$\n",
    "2. **Sortie avec softmax** :\n",
    "   $$\n",
    "   \\mathbf{h}^{(n+1)} = \\hat{y} = \\text{softmax}(\\mathbf{a}^{(n+1)})\n",
    "   $$\n",
    "\n",
    "### **Fonction de Coût (Cross-Entropy)**\n",
    "\n",
    "La fonction de coût est définie comme :\n",
    "$$\n",
    "J = CE(y, \\hat{y})\n",
    "$$\n",
    "\n",
    "## 2. Calcul du Gradient pour la Rétropropagation\n",
    "\n",
    "Nous savons d'après le cours que  :\n",
    "$$\n",
    "\\frac{\\partial J}{\\partial \\mathbf{a}^{(n+1)}} = \\hat{y} - y\n",
    "$$\n",
    "\n",
    "Ensuite, en appliquant la règle de la chaîne, nous avons :\n",
    "$$\n",
    "\\frac{\\partial J}{\\partial \\boldsymbol{\\theta}^{(n+1)}} = \\left( \\frac{\\partial J}{\\partial \\mathbf{a}^{(n+1)}} \\right) \\cdot \\left( \\frac{\\partial \\mathbf{a}^{(n+1)}}{\\partial \\boldsymbol{\\theta}^{(n+1)}} \\right)\n",
    "$$\n",
    "\n",
    "$$\n",
    "\\frac{\\partial J}{\\partial \\boldsymbol{\\theta}^{(n+1)}} = (\\hat{y} - y) \\cdot  \\tilde{\\mathbf{h}}^{(n)}\n",
    "$$\n",
    "\n",
    "De même,  pour $ \\( l \\neq 1 \\)$, on a : \n",
    "$$\n",
    "\\frac{\\partial J}{\\partial \\boldsymbol{\\theta}^{(l)}} = \n",
    "\\left( \\frac{\\partial J}{\\partial \\mathbf{a}^{(n+1)}} \\right) \\cdot  \n",
    "\\left( \\frac{\\partial \\mathbf{a}^{(n+1)}}{\\partial \\mathbf{h}^{(n)}} \\right) \\cdot \n",
    "\\left( \\frac{\\partial \\mathbf{h}^{(n)}}{\\partial \\mathbf{a}^{(n)}} \\right) \\cdot \n",
    "\\left( \\frac{\\partial \\mathbf{a}^{(n)}}{\\partial \\mathbf{h}^{(n-1)}} \\right) \\cdot  \n",
    "\\left( \\frac{\\partial \\mathbf{h}^{(n-1)}}{\\partial \\mathbf{a}^{(n-1)}} \\right) \\cdot ... \\cdot \n",
    "\\left( \\frac{\\partial \\mathbf{a}^{(l)}}{\\partial \\boldsymbol{\\theta}^{(l) \\right)\n",
    "$$\n",
    "\n",
    "$$\n",
    "\\frac{\\partial J}{\\partial \\boldsymbol{\\theta}^{(l)}} = (\\hat{y} - y) \n",
    "\\cdot \\left(  W^{(n+1)} \\odot \\text{ReLU}'(\\mathbf{a}^{(n)}) \\right) \n",
    "\\cdot \\left( W^{(n)} \\odot \\text{ReLU}'(\\mathbf{a}^{(n-1)})  \\right) \n",
    "\\cdot ... \\cdot\n",
    "\\tilde{\\mathbf{h}}^{(n)\n",
    "$$\n",
    "\n",
    "$$\n",
    "\\frac{\\partial J}{\\partial \\boldsymbol{\\theta}^{(l)}} = (\\hat{y} - y) \n",
    "\\cdot \\prod_{k=l}^{n} \\left( W^{(k+1)} \\odot \\text{ReLU}'(\\mathbf{a}^{(k)}) \\right) \n",
    "\\cdot \\tilde{\\mathbf{h}}^{(l-1)}\n",
    "$$\n",
    "\n",
    "\n",
    "\n",
    "\n",
    "Nous introduisons alors un paramètre intermédiaire, appelé **delta**, défini entre 1 et $l+1$ comme :\n",
    "$$\n",
    "\\delta^{(n+1)} = \\frac{\\partial J}{\\partial \\mathbf{a}^{(n+1)}} = \\hat{y} - y\n",
    "$$\n",
    "\n",
    "$$\n",
    "\\delta^{(l)} = \\delta^{(l+1)}  \\cdot \\left( W^{(l+1)} \\odot \\text{ReLU}'(\\mathbf{a}^{(l)}) \\right) \n",
    "$$\n",
    "\n",
    "\n",
    "Ainsi, nous avons alors pour chaque couche  :\n",
    "$$\n",
    "\\nabla \\boldsymbol{\\theta}^{(l)} = \\mathbf{h}^{(l)T} \\cdot \\delta^{(l+1)}\n",
    "$$\n",
    "\n",
    "Seule la dernière couche diffère. En effet, on a : \n",
    "$$\n",
    "\\nabla \\boldsymbol{\\theta}^{(1)} = \\mathbf{x}^{T} \\cdot \\delta^{(1)}\n",
    "$$\n",
    "\n"
   ],
   "metadata": {
    "collapsed": false
   }
  },
  {
   "cell_type": "markdown",
   "metadata": {
    "id": "SIQJD-TRwEdo"
   },
   "source": [
    "## Fonctions à compléter"
   ]
  },
  {
   "cell_type": "code",
   "execution_count": 6,
   "metadata": {
    "id": "JzIQ0S4qDPKJ",
    "ExecuteTime": {
     "end_time": "2025-02-05T15:39:27.986711900Z",
     "start_time": "2025-02-05T15:39:27.970821800Z"
    }
   },
   "outputs": [],
   "source": [
    "''' Les fonctions dans cette cellule peuvent avoir les mêmes déclarations que celles de la partie 2'''\n",
    "def accuracy(y, y_pred) :\n",
    "    # todo : nombre d'éléments à classifier.\n",
    "    # todo : nombre d'éléments à classifier.\n",
    "    card_D = len(y)\n",
    "\n",
    "    # todo : calcul du nombre d'éléments bien classifiés.\n",
    "    card_C = torch.sum(torch.argmax(y_pred, dim=1) == torch.argmax(y, dim=1)).item()\n",
    "\n",
    "    # todo : calcul de la précision de classification.\n",
    "    acc = card_C/card_D\n",
    "\n",
    "    return acc, (card_C, card_D)\n",
    "\n",
    "def accuracy_and_loss_whole_dataset(data_loader, model):\n",
    "    cardinal = 0\n",
    "    loss     = 0.\n",
    "    n_accurate_preds  = 0.\n",
    "\n",
    "    for x, y in data_loader:\n",
    "        x, y = reshape_input(x, y)\n",
    "        y_pred                = model.forward(x)\n",
    "        xentrp                = cross_entropy(y, y_pred)\n",
    "        _, (n_acc, n_samples) = accuracy(y, y_pred)\n",
    "\n",
    "        cardinal = cardinal + n_samples\n",
    "        loss     = loss + xentrp\n",
    "        n_accurate_preds  = n_accurate_preds + n_acc\n",
    "\n",
    "    loss = loss / float(cardinal)\n",
    "    acc  = n_accurate_preds / float(cardinal)\n",
    "\n",
    "    return acc, loss\n",
    "\n",
    "def inputs_tilde(x, axis=-1):\n",
    "    # augments the inputs `x` with ones along `axis`\n",
    "    # todo : implémenter code ici.\n",
    "    ones_shape = list(x.shape)\n",
    "\n",
    "    ones_shape[axis] = 1\n",
    "    ones = torch.ones(ones_shape, dtype=x.dtype, device=x.device)\n",
    "\n",
    "    # Concatenate the ones along the specified axis\n",
    "    x_tilde = torch.cat([x, ones], dim=axis)\n",
    "\n",
    "    return x_tilde\n",
    "\n",
    "def cross_entropy(y, y_pred):\n",
    "    # todo : calcul de la valeur d'entropie croisée.\n",
    "    y_pred = torch.clamp(y_pred, min=1e-9, max=1.0)\n",
    "    loss = -torch.sum(y * torch.log(y_pred))\n",
    "    return loss\n",
    "\n",
    "def softmax(x, axis=-1): # x of size[batch_size , number of classes]\n",
    "    # assurez vous que la fonction est numeriquement stable\n",
    "    # e.g. softmax(torch.tensor([[1000, 10000, 100000],]))\n",
    "\n",
    "    # todo : calcul des valeurs de softmax(x)\n",
    "    x_max = torch.max(x, dim=axis, keepdim=True)\n",
    "    x = x - x_max.values\n",
    "    exp_x = torch.exp(x)\n",
    "    values = exp_x / torch.sum(exp_x, dim=axis, keepdim=True)\n",
    "    return values\n",
    "\n",
    "\n",
    "def softmax_cross_entropy_backward(y, y_pred):\n",
    "    # todo : calcul de la valeur du gradient de l'entropie croisée composée avec `softmax`\n",
    "    values = y_pred - y\n",
    "    return values\n",
    "\n",
    "def relu_forward(x): ##x of size [batch size, num_features]\n",
    "    # todo : calcul des valeurs de relu(x)\n",
    "    values = torch.max(torch.zeros_like(x), x)\n",
    "    return values\n",
    "\n",
    "def relu_backward(x): ##x of size [batch size, num_features]\n",
    "    # todo : calcul des valeurs du gradient de la fonction `relu`\n",
    "    values = torch.where(x > 0, torch.ones_like(x), torch.zeros_like(x))\n",
    "    return values\n",
    "\n",
    "\n",
    "# Model est une classe representant votre reseaux de neuronnes\n",
    "class MLPModel:\n",
    "    def __init__(self, n_features, n_hidden_features, n_hidden_layers, n_classes):\n",
    "        self.n_features        = n_features\n",
    "        self.n_hidden_features = n_hidden_features\n",
    "        self.n_hidden_layers   = n_hidden_layers\n",
    "        self.n_classes         = n_classes\n",
    "        self.params = []\n",
    "\n",
    "        # todo : initialiser la liste des paramètres Teta de l'estimateur.\n",
    "\n",
    "        for i in range(n_hidden_layers+1):\n",
    "            if i == 0:\n",
    "                self.params.append(torch.normal(0, 0.01, (n_features + 1, n_hidden_features)))\n",
    "            elif i == n_hidden_layers :\n",
    "              self.params.append(torch.normal(0, 0.01, (n_hidden_features + 1, n_classes)))\n",
    "            else:\n",
    "              self.params.append(torch.normal(0, 0.01, (n_hidden_features + 1, n_hidden_features)))\n",
    "        print(f\"Teta params={[p.shape for p in self.params]}\")\n",
    "\n",
    "        self.a = [] # liste contenant le resultat des multiplications matricielles\n",
    "        self.h = [] # liste contenant le resultat des fonctions d'activations\n",
    "\n",
    "        self.t = 0\n",
    "        self.m_t = 0 # pour Adam: moyennes mobiles du gradient\n",
    "        self.v_t = 0 # pour Adam: moyennes mobiles du carré du gradient\n",
    "\n",
    "    def forward(self, x):\n",
    "        # todo : implémenter calcul des outputs en fonction des inputs `x`.\n",
    "        self.a = []\n",
    "        self.h = []\n",
    "        inputs = inputs_tilde(x)\n",
    "        for i in range(self.n_hidden_layers+1):\n",
    "            if i == 0:\n",
    "              self.a.append(torch.matmul(inputs, self.params[i]))\n",
    "            else:\n",
    "              self.a.append(torch.matmul(self.h[i-1], self.params[i]))\n",
    "\n",
    "            if i == self.n_hidden_layers:\n",
    "              self.h.append(self.a[i])\n",
    "            else :\n",
    "              self.h.append(inputs_tilde(relu_forward(self.a[i])))\n",
    "\n",
    "        outputs = softmax(self.h[self.n_hidden_layers])\n",
    "        return outputs\n",
    "\n",
    "\n",
    "    def backward(self, y, y_pred,x):\n",
    "\n",
    "      grads = [None] * (self.n_hidden_layers + 1) # gradients pour les n_hiddens_layers + params de la dernière hidden layer à la couche ou on fait le softmax\n",
    "\n",
    "      # Step 1: Compute the gradient of the loss w.r.t. the output\n",
    "      delta = softmax_cross_entropy_backward(y, y_pred) ## début [batch_size , num_classes]\n",
    "\n",
    "      for i in range(self.n_hidden_layers, -1, -1):\n",
    "        #print(f\"Shape of inputs_tilde(x): {inputs_tilde(x).shape}\")\n",
    "        #print(f\"Shape of delta: {delta.shape}\")\n",
    "        #print(f\"Shape of params[{i}]: {self.params[i].shape}\")\n",
    "        #print(f\"Shape of a[{i}]: {self.a[i].shape}\")\n",
    "        #print(f\"Shape of h[{i}]: {self.h[i].shape}\")\n",
    "        if i != 0:\n",
    "            grads[i] = torch.matmul(self.h[i - 1].T, delta) # [n_hidden_features +1 , batch_size] * [batch_size , num_classes] for the first delta => [n_hidden_features +1 , num_classes] cohérent\n",
    "            #print(f\"Shape of grads[{i}]: {grads[i].shape}\")\n",
    "            # [n_hidden_features , batch_size] * [batch_size , n_hidden_features] => [n_hidden_features , n_hidden_features] after\n",
    "            # On calcule le delta pour l'itération d'après\n",
    "            #(le delta étant toute la multiplication matricielle utile pour le gradient)\n",
    "            delta = torch.matmul(delta, self.params[i].T)[:, :-1] * relu_backward(self.a[i-1]) # [batch_size , num_classes] * [num_classes , n_hidden_features+1] => [batch_size , n_hidden_features +1 -1 ] for the first iteration\n",
    "            # =>  [batch_size , n_hidden_features]\n",
    "            # [batch_size , n_hidden_features] * [n_hidden_features , n_hidden_features+1] => [batch_size , n_hidden_features +1 -1] for after\n",
    "        else:\n",
    "            grads[i] = torch.matmul(inputs_tilde(x).T, delta) # [n_features  ,batch_size] * [batch_size , n_hidden_features] => [n_features , n_hidden_features]\n",
    "        #print(f\"Shape of grads[{i}]: {grads[i].shape}\")\n",
    "      return grads\n",
    "\n",
    "\n",
    "\n",
    "    def sgd_update(self, lr, grads):\n",
    "        for i in range(self.n_hidden_layers+1) :\n",
    "          self.params[i] -= lr * grads[i]\n",
    "         # TODO : implémenter mise à jour des paramètres ici.\n",
    "\n",
    "    def adam_update(self, lr, grads):\n",
    "        # TODO : implémenter mise à jour des paramètres ici.\n",
    "        B1 = 0.9\n",
    "        B2 = 0.999\n",
    "        eps = 1e-8\n",
    "        self.t += 1\n",
    "        self.m_t = 0.9 * self.m_t + 0.1 * grads\n",
    "        self.v_t = 0.999 * self.v_t + 0.001 * torch.square(grads)\n",
    "        m_hat = self.m_t / (1 - B1**self.t)\n",
    "        v_hat = self.v_t / (1 - B2**self.t)\n",
    "        self.params -= lr * m_hat / (torch.sqrt(v_hat) + eps)\n",
    "\n",
    "def train(model, lr=0.1, nb_epochs=10, sgd=True, data_loader_train=None, data_loader_val=None):\n",
    "    best_model = None\n",
    "    best_val_accuracy = 0\n",
    "    logger = Logger()\n",
    "\n",
    "    for epoch in range(nb_epochs+1):\n",
    "        # at epoch 0 evaluate random initial model\n",
    "        # then for subsequent epochs, do optimize before evaluation.\n",
    "        if epoch > 0 :\n",
    "            for x, y in data_loader_train:\n",
    "                x, y = reshape_input(x, y)\n",
    "\n",
    "                y_pred = model.forward(x)\n",
    "                grads  = model.backward(y, y_pred , x)\n",
    "                if sgd:\n",
    "                  model.sgd_update(lr, grads)\n",
    "                else:\n",
    "                  model.adam_update(lr, grads)\n",
    "\n",
    "        accuracy_train, loss_train = accuracy_and_loss_whole_dataset(data_loader_train, model)\n",
    "        accuracy_val, loss_val = accuracy_and_loss_whole_dataset(data_loader_val, model)\n",
    "\n",
    "        if accuracy_val > best_val_accuracy:\n",
    "          best_val_accuracy = accuracy_val\n",
    "          best_model = model\n",
    "          # TODO : record the best model parameters and best validation accuracy\n",
    "\n",
    "        logger.log(accuracy_train, loss_train, accuracy_val, loss_val)\n",
    "        print(f\"Epoch {epoch:2d}, \\\n",
    "                Train:loss={loss_train:.3f}, accuracy={accuracy_train*100:.1f}%, \\\n",
    "                Valid: loss={loss_val:.3f}, accuracy={accuracy_val*100:.1f}%\", flush=True)\n",
    "\n",
    "    return best_model, best_val_accuracy, logger"
   ]
  },
  {
   "cell_type": "markdown",
   "metadata": {
    "id": "tIe9DFvPwuQg"
   },
   "source": [
    "## Évaluation"
   ]
  },
  {
   "cell_type": "markdown",
   "metadata": {
    "id": "ml5jUvG9AUXK"
   },
   "source": [
    "### SGD: Recherche d'hyperparamètres"
   ]
  },
  {
   "cell_type": "code",
   "execution_count": 7,
   "metadata": {
    "id": "fe7hyN63AUXL",
    "ExecuteTime": {
     "end_time": "2025-02-05T16:28:06.656415800Z",
     "start_time": "2025-02-05T15:39:29.257772600Z"
    }
   },
   "outputs": [
    {
     "name": "stdout",
     "output_type": "stream",
     "text": [
      "------------------------------------------------------------------\n",
      "Training model with a depth of 1 layers and a width of 25 units\n",
      "Teta params=[torch.Size([785, 25]), torch.Size([26, 10])]\n",
      "Epoch  0,                 Train:loss=2.302, accuracy=5.5%,                 Valid: loss=2.302, accuracy=5.6%\n",
      "Epoch  1,                 Train:loss=0.550, accuracy=80.9%,                 Valid: loss=0.548, accuracy=81.0%\n",
      "Epoch  2,                 Train:loss=0.465, accuracy=83.9%,                 Valid: loss=0.464, accuracy=83.4%\n",
      "Epoch  3,                 Train:loss=0.430, accuracy=85.1%,                 Valid: loss=0.429, accuracy=85.0%\n",
      "Epoch  4,                 Train:loss=0.430, accuracy=84.5%,                 Valid: loss=0.424, accuracy=84.3%\n",
      "Epoch  5,                 Train:loss=0.405, accuracy=85.7%,                 Valid: loss=0.400, accuracy=85.5%\n",
      "validation accuracy = 85.517\n",
      "------------------------------------------------------------------\n",
      "Training model with a depth of 1 layers and a width of 100 units\n",
      "Teta params=[torch.Size([785, 100]), torch.Size([101, 10])]\n",
      "Epoch  0,                 Train:loss=2.302, accuracy=10.0%,                 Valid: loss=2.302, accuracy=10.5%\n",
      "Epoch  1,                 Train:loss=0.531, accuracy=81.7%,                 Valid: loss=0.530, accuracy=82.4%\n",
      "Epoch  2,                 Train:loss=0.464, accuracy=83.9%,                 Valid: loss=0.474, accuracy=83.5%\n",
      "Epoch  3,                 Train:loss=0.426, accuracy=85.0%,                 Valid: loss=0.433, accuracy=84.6%\n",
      "Epoch  4,                 Train:loss=0.396, accuracy=86.0%,                 Valid: loss=0.404, accuracy=86.0%\n",
      "Epoch  5,                 Train:loss=0.375, accuracy=86.8%,                 Valid: loss=0.387, accuracy=86.8%\n",
      "validation accuracy = 86.750\n",
      "------------------------------------------------------------------\n",
      "Training model with a depth of 1 layers and a width of 300 units\n",
      "Teta params=[torch.Size([785, 300]), torch.Size([301, 10])]\n",
      "Epoch  0,                 Train:loss=2.302, accuracy=11.4%,                 Valid: loss=2.301, accuracy=12.3%\n",
      "Epoch  1,                 Train:loss=0.534, accuracy=81.2%,                 Valid: loss=0.537, accuracy=81.8%\n",
      "Epoch  2,                 Train:loss=0.437, accuracy=84.7%,                 Valid: loss=0.446, accuracy=84.8%\n",
      "Epoch  3,                 Train:loss=0.416, accuracy=85.5%,                 Valid: loss=0.429, accuracy=85.4%\n",
      "Epoch  4,                 Train:loss=0.380, accuracy=86.8%,                 Valid: loss=0.398, accuracy=86.2%\n",
      "Epoch  5,                 Train:loss=0.373, accuracy=86.8%,                 Valid: loss=0.392, accuracy=86.1%\n",
      "validation accuracy = 86.250\n",
      "------------------------------------------------------------------\n",
      "Training model with a depth of 1 layers and a width of 500 units\n",
      "Teta params=[torch.Size([785, 500]), torch.Size([501, 10])]\n",
      "Epoch  0,                 Train:loss=2.304, accuracy=9.4%,                 Valid: loss=2.305, accuracy=9.2%\n",
      "Epoch  1,                 Train:loss=0.500, accuracy=82.9%,                 Valid: loss=0.510, accuracy=82.3%\n",
      "Epoch  2,                 Train:loss=0.445, accuracy=84.4%,                 Valid: loss=0.462, accuracy=83.7%\n",
      "Epoch  3,                 Train:loss=0.447, accuracy=83.8%,                 Valid: loss=0.466, accuracy=83.4%\n",
      "Epoch  4,                 Train:loss=0.375, accuracy=86.9%,                 Valid: loss=0.398, accuracy=86.0%\n",
      "Epoch  5,                 Train:loss=0.374, accuracy=86.9%,                 Valid: loss=0.399, accuracy=85.9%\n",
      "validation accuracy = 85.950\n",
      "------------------------------------------------------------------\n",
      "Training model with a depth of 1 layers and a width of 1000 units\n",
      "Teta params=[torch.Size([785, 1000]), torch.Size([1001, 10])]\n",
      "Epoch  0,                 Train:loss=2.303, accuracy=5.1%,                 Valid: loss=2.304, accuracy=4.7%\n",
      "Epoch  1,                 Train:loss=0.509, accuracy=82.3%,                 Valid: loss=0.511, accuracy=82.7%\n",
      "Epoch  2,                 Train:loss=0.457, accuracy=83.5%,                 Valid: loss=0.468, accuracy=83.7%\n",
      "Epoch  3,                 Train:loss=0.425, accuracy=84.8%,                 Valid: loss=0.439, accuracy=84.4%\n",
      "Epoch  4,                 Train:loss=0.379, accuracy=86.6%,                 Valid: loss=0.392, accuracy=86.5%\n",
      "Epoch  5,                 Train:loss=0.363, accuracy=87.1%,                 Valid: loss=0.382, accuracy=86.9%\n",
      "validation accuracy = 86.917\n",
      "------------------------------------------------------------------\n",
      "Training model with a depth of 3 layers and a width of 25 units\n",
      "Teta params=[torch.Size([785, 25]), torch.Size([26, 25]), torch.Size([26, 25]), torch.Size([26, 10])]\n",
      "Epoch  0,                 Train:loss=2.303, accuracy=10.0%,                 Valid: loss=2.303, accuracy=9.8%\n",
      "Epoch  1,                 Train:loss=2.303, accuracy=10.0%,                 Valid: loss=2.303, accuracy=9.7%\n",
      "Epoch  2,                 Train:loss=2.303, accuracy=10.0%,                 Valid: loss=2.303, accuracy=9.9%\n",
      "Epoch  3,                 Train:loss=2.303, accuracy=10.0%,                 Valid: loss=2.303, accuracy=9.9%\n",
      "Epoch  4,                 Train:loss=2.303, accuracy=10.0%,                 Valid: loss=2.303, accuracy=9.9%\n",
      "Epoch  5,                 Train:loss=2.303, accuracy=10.0%,                 Valid: loss=2.303, accuracy=9.9%\n",
      "validation accuracy = 9.917\n",
      "------------------------------------------------------------------\n",
      "Training model with a depth of 3 layers and a width of 100 units\n",
      "Teta params=[torch.Size([785, 100]), torch.Size([101, 100]), torch.Size([101, 100]), torch.Size([101, 10])]\n",
      "Epoch  0,                 Train:loss=2.303, accuracy=10.0%,                 Valid: loss=2.303, accuracy=9.6%\n",
      "Epoch  1,                 Train:loss=2.303, accuracy=11.1%,                 Valid: loss=2.303, accuracy=11.9%\n",
      "Epoch  2,                 Train:loss=1.620, accuracy=33.6%,                 Valid: loss=1.613, accuracy=33.9%\n",
      "Epoch  3,                 Train:loss=1.048, accuracy=62.2%,                 Valid: loss=1.009, accuracy=63.8%\n",
      "Epoch  4,                 Train:loss=0.686, accuracy=75.6%,                 Valid: loss=0.663, accuracy=76.2%\n",
      "Epoch  5,                 Train:loss=0.600, accuracy=79.7%,                 Valid: loss=0.596, accuracy=79.7%\n",
      "validation accuracy = 79.667\n",
      "------------------------------------------------------------------\n",
      "Training model with a depth of 3 layers and a width of 300 units\n",
      "Teta params=[torch.Size([785, 300]), torch.Size([301, 300]), torch.Size([301, 300]), torch.Size([301, 10])]\n",
      "Epoch  0,                 Train:loss=2.303, accuracy=10.0%,                 Valid: loss=2.303, accuracy=10.1%\n",
      "Epoch  1,                 Train:loss=1.276, accuracy=47.1%,                 Valid: loss=1.286, accuracy=47.1%\n",
      "Epoch  2,                 Train:loss=0.692, accuracy=74.5%,                 Valid: loss=0.710, accuracy=74.1%\n",
      "Epoch  3,                 Train:loss=0.584, accuracy=78.6%,                 Valid: loss=0.604, accuracy=78.1%\n",
      "Epoch  4,                 Train:loss=0.463, accuracy=83.1%,                 Valid: loss=0.488, accuracy=82.6%\n",
      "Epoch  5,                 Train:loss=0.411, accuracy=85.0%,                 Valid: loss=0.444, accuracy=84.5%\n",
      "validation accuracy = 84.550\n",
      "------------------------------------------------------------------\n",
      "Training model with a depth of 3 layers and a width of 500 units\n",
      "Teta params=[torch.Size([785, 500]), torch.Size([501, 500]), torch.Size([501, 500]), torch.Size([501, 10])]\n",
      "Epoch  0,                 Train:loss=2.303, accuracy=10.0%,                 Valid: loss=2.303, accuracy=9.6%\n",
      "Epoch  1,                 Train:loss=0.833, accuracy=68.9%,                 Valid: loss=0.876, accuracy=67.7%\n",
      "Epoch  2,                 Train:loss=0.589, accuracy=79.6%,                 Valid: loss=0.624, accuracy=78.8%\n",
      "Epoch  3,                 Train:loss=0.526, accuracy=80.5%,                 Valid: loss=0.571, accuracy=78.7%\n",
      "Epoch  4,                 Train:loss=0.419, accuracy=85.0%,                 Valid: loss=0.464, accuracy=83.9%\n",
      "Epoch  5,                 Train:loss=0.367, accuracy=86.7%,                 Valid: loss=0.412, accuracy=85.4%\n",
      "validation accuracy = 85.400\n",
      "------------------------------------------------------------------\n",
      "Training model with a depth of 3 layers and a width of 1000 units\n",
      "Teta params=[torch.Size([785, 1000]), torch.Size([1001, 1000]), torch.Size([1001, 1000]), torch.Size([1001, 10])]\n",
      "Epoch  0,                 Train:loss=2.302, accuracy=10.1%,                 Valid: loss=2.302, accuracy=9.3%\n",
      "Epoch  1,                 Train:loss=0.664, accuracy=76.1%,                 Valid: loss=0.668, accuracy=75.8%\n",
      "Epoch  2,                 Train:loss=0.555, accuracy=79.3%,                 Valid: loss=0.566, accuracy=78.7%\n",
      "Epoch  3,                 Train:loss=0.438, accuracy=84.5%,                 Valid: loss=0.453, accuracy=83.2%\n",
      "Epoch  4,                 Train:loss=0.377, accuracy=86.5%,                 Valid: loss=0.394, accuracy=85.9%\n",
      "Epoch  5,                 Train:loss=0.343, accuracy=87.7%,                 Valid: loss=0.364, accuracy=86.7%\n",
      "validation accuracy = 86.650\n",
      "------------------------------------------------------------------\n",
      "Training model with a depth of 5 layers and a width of 25 units\n",
      "Teta params=[torch.Size([785, 25]), torch.Size([26, 25]), torch.Size([26, 25]), torch.Size([26, 25]), torch.Size([26, 25]), torch.Size([26, 10])]\n",
      "Epoch  0,                 Train:loss=2.303, accuracy=10.0%,                 Valid: loss=2.303, accuracy=10.1%\n",
      "Epoch  1,                 Train:loss=2.303, accuracy=10.0%,                 Valid: loss=2.303, accuracy=9.8%\n",
      "Epoch  2,                 Train:loss=2.303, accuracy=10.0%,                 Valid: loss=2.303, accuracy=9.8%\n",
      "Epoch  3,                 Train:loss=2.303, accuracy=10.0%,                 Valid: loss=2.303, accuracy=9.8%\n",
      "Epoch  4,                 Train:loss=2.303, accuracy=10.0%,                 Valid: loss=2.303, accuracy=10.3%\n",
      "Epoch  5,                 Train:loss=2.303, accuracy=10.0%,                 Valid: loss=2.303, accuracy=10.1%\n",
      "validation accuracy = 10.317\n",
      "------------------------------------------------------------------\n",
      "Training model with a depth of 5 layers and a width of 100 units\n",
      "Teta params=[torch.Size([785, 100]), torch.Size([101, 100]), torch.Size([101, 100]), torch.Size([101, 100]), torch.Size([101, 100]), torch.Size([101, 10])]\n",
      "Epoch  0,                 Train:loss=2.303, accuracy=10.1%,                 Valid: loss=2.303, accuracy=9.1%\n",
      "Epoch  1,                 Train:loss=2.303, accuracy=10.1%,                 Valid: loss=2.303, accuracy=9.1%\n",
      "Epoch  2,                 Train:loss=2.303, accuracy=10.0%,                 Valid: loss=2.303, accuracy=9.6%\n",
      "Epoch  3,                 Train:loss=2.303, accuracy=10.0%,                 Valid: loss=2.303, accuracy=9.7%\n",
      "Epoch  4,                 Train:loss=2.303, accuracy=10.0%,                 Valid: loss=2.303, accuracy=9.7%\n",
      "Epoch  5,                 Train:loss=2.303, accuracy=10.1%,                 Valid: loss=2.303, accuracy=9.1%\n",
      "validation accuracy = 9.717\n",
      "------------------------------------------------------------------\n",
      "Training model with a depth of 5 layers and a width of 300 units\n",
      "Teta params=[torch.Size([785, 300]), torch.Size([301, 300]), torch.Size([301, 300]), torch.Size([301, 300]), torch.Size([301, 300]), torch.Size([301, 10])]\n",
      "Epoch  0,                 Train:loss=2.303, accuracy=10.0%,                 Valid: loss=2.303, accuracy=10.1%\n",
      "Epoch  1,                 Train:loss=2.303, accuracy=10.0%,                 Valid: loss=2.303, accuracy=10.0%\n",
      "Epoch  2,                 Train:loss=2.303, accuracy=10.1%,                 Valid: loss=2.303, accuracy=9.4%\n",
      "Epoch  3,                 Train:loss=2.303, accuracy=10.0%,                 Valid: loss=2.303, accuracy=10.1%\n",
      "Epoch  4,                 Train:loss=2.303, accuracy=10.0%,                 Valid: loss=2.303, accuracy=10.0%\n",
      "Epoch  5,                 Train:loss=2.303, accuracy=10.0%,                 Valid: loss=2.303, accuracy=10.2%\n",
      "validation accuracy = 10.167\n",
      "------------------------------------------------------------------\n",
      "Training model with a depth of 5 layers and a width of 500 units\n",
      "Teta params=[torch.Size([785, 500]), torch.Size([501, 500]), torch.Size([501, 500]), torch.Size([501, 500]), torch.Size([501, 500]), torch.Size([501, 10])]\n",
      "Epoch  0,                 Train:loss=2.303, accuracy=10.1%,                 Valid: loss=2.303, accuracy=9.4%\n",
      "Epoch  1,                 Train:loss=2.303, accuracy=10.0%,                 Valid: loss=2.304, accuracy=9.6%\n",
      "Epoch  2,                 Train:loss=2.303, accuracy=10.0%,                 Valid: loss=2.304, accuracy=10.0%\n",
      "Epoch  3,                 Train:loss=2.303, accuracy=10.0%,                 Valid: loss=2.303, accuracy=9.6%\n",
      "Epoch  4,                 Train:loss=2.303, accuracy=10.0%,                 Valid: loss=2.303, accuracy=9.8%\n",
      "Epoch  5,                 Train:loss=2.303, accuracy=10.0%,                 Valid: loss=2.303, accuracy=10.3%\n",
      "validation accuracy = 10.317\n",
      "------------------------------------------------------------------\n",
      "Training model with a depth of 5 layers and a width of 1000 units\n",
      "Teta params=[torch.Size([785, 1000]), torch.Size([1001, 1000]), torch.Size([1001, 1000]), torch.Size([1001, 1000]), torch.Size([1001, 1000]), torch.Size([1001, 10])]\n",
      "Epoch  0,                 Train:loss=2.303, accuracy=10.0%,                 Valid: loss=2.303, accuracy=10.1%\n",
      "Epoch  1,                 Train:loss=2.302, accuracy=10.0%,                 Valid: loss=2.303, accuracy=10.0%\n",
      "Epoch  2,                 Train:loss=2.300, accuracy=14.9%,                 Valid: loss=2.300, accuracy=14.5%\n",
      "Epoch  3,                 Train:loss=0.964, accuracy=63.1%,                 Valid: loss=0.976, accuracy=62.8%\n",
      "Epoch  4,                 Train:loss=0.662, accuracy=75.1%,                 Valid: loss=0.693, accuracy=74.3%\n",
      "Epoch  5,                 Train:loss=0.480, accuracy=83.4%,                 Valid: loss=0.515, accuracy=81.9%\n",
      "validation accuracy = 81.883\n"
     ]
    }
   ],
   "source": [
    "# SGD\n",
    "# Montrez les résultats pour différents nombre de couche, e.g. 1, 3, 5, et différent nombres de neurone, e.g. 25, 100, 300, 500, 1000.\n",
    "depth_list = [1,3,5]   # Define ranges in a list\n",
    "width_list = [25,100,300,500,1000]   # Define ranges in a list\n",
    "lr = 0.001           # Some value\n",
    "batch_size = 20   # Some value\n",
    "\n",
    "with torch.no_grad():\n",
    "  for depth in depth_list:\n",
    "    for width in width_list:\n",
    "      print(\"------------------------------------------------------------------\")\n",
    "      print(\"Training model with a depth of {0} layers and a width of {1} units\".format(depth, width))\n",
    "      data_loader_train, data_loader_val, data_loader_test = get_fashion_mnist_dataloaders(val_percentage=0.1, batch_size=batch_size)\n",
    "\n",
    "      MLP_model = MLPModel(n_features=784, n_hidden_features=width, n_hidden_layers=depth, n_classes=10)\n",
    "      _, val_accuracy, _ = train(MLP_model,lr=lr, nb_epochs=5, sgd=True, data_loader_train=data_loader_train, data_loader_val=data_loader_val)\n",
    "      print(f\"validation accuracy = {val_accuracy*100:.3f}\")"
   ]
  },
  {
   "cell_type": "markdown",
   "metadata": {
    "id": "QnDMqFapAUXM"
   },
   "source": [
    "#### **Tableau pour la précision sur l'ensemble de validation**\n",
    "N.B. que les lignes correspondent aux nombre de couche et les colonnes correspondent au nombre de neurone dans chaque couche. Les valeurs ci-dessous sont donné comme exemples; remplacez-les par les valeurs que vous avez utilisées pour votre recherche d'hyperparamètres.\n",
    "\n",
    "depth\\width  | 25     | 100    | 300    | 500    | 1000   \n",
    "-------------------|--------|--------|--------|--------|--------|\n",
    "**1**   | 85.517 | 86.750 | 86.250 | 85.950 | 86.917 |\n",
    "**3** | -      | -      | -      | -      | -      |\n",
    "**5**  | -      | -      | -      | -      | -      |"
   ]
  },
  {
   "cell_type": "markdown",
   "metadata": {
    "id": "2wuN-uw7AUXN"
   },
   "source": [
    "### SGD: Analyse du meilleur modèle"
   ]
  },
  {
   "cell_type": "code",
   "execution_count": null,
   "metadata": {
    "id": "CShZ3VB0AUXN"
   },
   "outputs": [],
   "source": [
    "# SGD\n",
    "# Montrez les résultats pour la meilleure configuration trouvez ci-dessus.\n",
    "depth = None    # TODO: Vous devez modifier cette valeur avec la meilleur que vous avez eu.\n",
    "width = None    # TODO: Vous devez modifier cette valeur avec la meilleur que vous avez eu.\n",
    "lr = None           # Some value\n",
    "batch_size = None   # Some value\n",
    "\n",
    "with torch.no_grad():\n",
    "  data_loader_train, data_loader_val, data_loader_test = get_fashion_mnist_dataloaders(val_percentage=0.1, batch_size=batch_size)\n",
    "\n",
    "  MLP_model = MLPModel(n_features=784, n_hidden_features=width, n_hidden_layers=depth, n_classes=10)\n",
    "  best_model, best_val_accuracy, logger = train(MLP_model,lr=lr, nb_epochs=5, sgd=True,\n",
    "                                                data_loader_train=data_loader_train, data_loader_val=data_loader_val)\n",
    "  logger.plot_loss_and_accuracy()\n",
    "  print(f\"Best validation accuracy = {best_val_accuracy*100:.3f}\")\n",
    "\n",
    "  accuracy_test, loss_test = accuracy_and_loss_whole_dataset(data_loader_test, best_model)\n",
    "print(\"Evaluation of the best training model over test set\")\n",
    "print(\"------\")\n",
    "print(f\"Loss : {loss_test:.3f}\")\n",
    "print(f\"Accuracy : {accuracy_test*100.:.3f}\")"
   ]
  },
  {
   "cell_type": "markdown",
   "metadata": {
    "id": "_tPLgZriAUXO"
   },
   "source": [
    "### Adam: Recherche d'hyperparamètres\n",
    "\n",
    "Implémentez Adam, répétez les deux étapes précédentes (recherche d'hyperparamètres et analyse du meilleur modèle) cette fois en utilisat Adam, et comparez les performances finales avec votre meilleur modèle SGD."
   ]
  },
  {
   "cell_type": "code",
   "execution_count": null,
   "metadata": {
    "id": "tEVOh1r7AUXO"
   },
   "outputs": [],
   "source": [
    "# ADAM\n",
    "# Montrez les résultats pour différents nombre de couche, e.g. 1, 3, 5, et différent nombres de neurone, e.g. 25, 100, 300, 500, 1000.\n",
    "depth_list = None   # Define ranges in a list\n",
    "width_list = None   # Define ranges in a list\n",
    "lr = None           # Some value\n",
    "batch_size = None   # Some value\n",
    "\n",
    "with torch.no_grad():\n",
    "  for depth in depth_list:\n",
    "    for width in width_list:\n",
    "      print(\"------------------------------------------------------------------\")\n",
    "      print(\"Training model with a depth of {0} layers and a width of {1} units\".format(depth, width))\n",
    "      data_loader_train, data_loader_val, data_loader_test = get_fashion_mnist_dataloaders(val_percentage=0.1, batch_size=batch_size)\n",
    "\n",
    "      MLP_model = MLPModel(n_features=784, n_hidden_features=width, n_hidden_layers=depth, n_classes=10)\n",
    "      _, val_accuracy, _ = train(MLP_model, lr=lr, nb_epochs=5, sgd=False, data_loader_train=data_loader_train, data_loader_val=data_loader_val)\n",
    "      print(f\"validation accuracy = {val_accuracy*100:.3f}\")"
   ]
  },
  {
   "cell_type": "markdown",
   "metadata": {
    "id": "6LQ6q18CAUXP"
   },
   "source": [
    "#### **Tableau pour la précision sur l'ensemble de validation**\n",
    "N.B. que les lignes correspondent aux nombre de couche et les colonnes correspondent au nombre de neurone dans chaque couche. Les valeurs ci-dessous sont donné comme exemples; remplacez-les par les valeurs que vous avez utilisées pour votre recherche d'hyperparamètres.\n",
    "\n",
    "depth\\width  | 25 | 100 | 300 | 500 | 1000\n",
    "-------------------|------------------|------------------|------------------|------------------|------------------|\n",
    "**1**   | -  | - | - | - | - |\n",
    "**3** | -  | - | - | - | - |\n",
    "**5**  | -  | - | - | - | - |"
   ]
  },
  {
   "cell_type": "markdown",
   "metadata": {
    "id": "df6Y9ziXAUXP"
   },
   "source": [
    "### Adam: Analyse du meilleur modèle"
   ]
  },
  {
   "cell_type": "code",
   "execution_count": null,
   "metadata": {
    "id": "uohnWTtoAUXP"
   },
   "outputs": [],
   "source": [
    "# ADAM\n",
    "# Montrez les résultats pour la meilleure configuration trouvez ci-dessus.\n",
    "depth = None    # TODO: Vous devez modifier cette valeur avec la meilleur que vous avez eu.\n",
    "width = None    # TODO: Vous devez modifier cette valeur avec la meilleur que vous avez eu.\n",
    "lr = None           # Some value\n",
    "batch_size = None   # Some value\n",
    "\n",
    "with torch.no_grad():\n",
    "  data_loader_train, data_loader_val, data_loader_test = get_fashion_mnist_dataloaders(val_percentage=0.1, batch_size=batch_size)\n",
    "\n",
    "  MLP_model = MLPModel(n_features=784, n_hidden_features=width, n_hidden_layers=depth, n_classes=10)\n",
    "  best_model, best_val_accuracy, logger = train(MLP_model,lr=lr, nb_epochs=5, sgd=False,\n",
    "                                                data_loader_train=data_loader_train, data_loader_val=data_loader_val)\n",
    "  logger.plot_loss_and_accuracy()\n",
    "  print(f\"Best validation accuracy = {best_val_accuracy*100:.3f}\")\n",
    "\n",
    "  accuracy_test, loss_test = accuracy_and_loss_whole_dataset(data_loader_test, best_model)\n",
    "print(\"Evaluation of the best training model over test set\")\n",
    "print(\"------\")\n",
    "print(f\"Loss : {loss_test:.3f}\")\n",
    "print(f\"Accuracy : {accuracy_test*100.:.3f}\")"
   ]
  },
  {
   "cell_type": "markdown",
   "metadata": {
    "id": "-wlDcZB-AUXP"
   },
   "source": [
    "### Analyse des Résultats"
   ]
  },
  {
   "cell_type": "markdown",
   "metadata": {
    "id": "M-Wi3CG3AUXP"
   },
   "source": [
    "Répondez içi..."
   ]
  }
 ],
 "metadata": {
  "colab": {
   "provenance": []
  },
  "kernelspec": {
   "name": "python3",
   "language": "python",
   "display_name": "Python 3 (ipykernel)"
  }
 },
 "nbformat": 4,
 "nbformat_minor": 0
}
